{
 "cells": [
  {
   "cell_type": "markdown",
   "metadata": {
    "id": "bpWZ-ptPleD_"
   },
   "source": [
    "# Project OCO\n",
    "December, 2020\n",
    "\n",
    "*Alya Ben Abdallah & Badis Jaouani*"
   ]
  },
  {
   "cell_type": "code",
   "execution_count": 1,
   "metadata": {
    "id": "nAKZ_snvfiYd"
   },
   "outputs": [],
   "source": [
    "import numpy as np\n",
    "import pandas as pd\n",
    "\n",
    "import seaborn as sns\n",
    "sns.set_style('whitegrid')\n",
    "import matplotlib.pyplot as plt\n",
    "\n",
    "from sklearn.preprocessing import scale"
   ]
  },
  {
   "cell_type": "markdown",
   "metadata": {
    "id": "b5ynZ8y8mALF"
   },
   "source": [
    "# 0. Preliminaries"
   ]
  },
  {
   "cell_type": "markdown",
   "metadata": {
    "id": "LScToTmbJTKA"
   },
   "source": [
    "### 0.1. Data Preprocessing"
   ]
  },
  {
   "cell_type": "code",
   "execution_count": 2,
   "metadata": {
    "id": "uz0BFGEjf4nm"
   },
   "outputs": [],
   "source": [
    "train = pd.read_csv('mnist_train.csv', header = None)\n",
    "test = pd.read_csv('mnist_test.csv', header = None)"
   ]
  },
  {
   "cell_type": "code",
   "execution_count": 3,
   "metadata": {
    "colab": {
     "base_uri": "https://localhost:8080/",
     "height": 253
    },
    "id": "F0I6J9GhgbWb",
    "outputId": "f65b10a0-02bd-4bf6-ef5e-992834080a35"
   },
   "outputs": [
    {
     "data": {
      "text/html": [
       "<div>\n",
       "<style scoped>\n",
       "    .dataframe tbody tr th:only-of-type {\n",
       "        vertical-align: middle;\n",
       "    }\n",
       "\n",
       "    .dataframe tbody tr th {\n",
       "        vertical-align: top;\n",
       "    }\n",
       "\n",
       "    .dataframe thead th {\n",
       "        text-align: right;\n",
       "    }\n",
       "</style>\n",
       "<table border=\"1\" class=\"dataframe\">\n",
       "  <thead>\n",
       "    <tr style=\"text-align: right;\">\n",
       "      <th></th>\n",
       "      <th>0</th>\n",
       "      <th>1</th>\n",
       "      <th>2</th>\n",
       "      <th>3</th>\n",
       "      <th>4</th>\n",
       "      <th>5</th>\n",
       "      <th>6</th>\n",
       "      <th>7</th>\n",
       "      <th>8</th>\n",
       "      <th>9</th>\n",
       "      <th>...</th>\n",
       "      <th>775</th>\n",
       "      <th>776</th>\n",
       "      <th>777</th>\n",
       "      <th>778</th>\n",
       "      <th>779</th>\n",
       "      <th>780</th>\n",
       "      <th>781</th>\n",
       "      <th>782</th>\n",
       "      <th>783</th>\n",
       "      <th>784</th>\n",
       "    </tr>\n",
       "  </thead>\n",
       "  <tbody>\n",
       "    <tr>\n",
       "      <th>0</th>\n",
       "      <td>5</td>\n",
       "      <td>0</td>\n",
       "      <td>0</td>\n",
       "      <td>0</td>\n",
       "      <td>0</td>\n",
       "      <td>0</td>\n",
       "      <td>0</td>\n",
       "      <td>0</td>\n",
       "      <td>0</td>\n",
       "      <td>0</td>\n",
       "      <td>...</td>\n",
       "      <td>0</td>\n",
       "      <td>0</td>\n",
       "      <td>0</td>\n",
       "      <td>0</td>\n",
       "      <td>0</td>\n",
       "      <td>0</td>\n",
       "      <td>0</td>\n",
       "      <td>0</td>\n",
       "      <td>0</td>\n",
       "      <td>0</td>\n",
       "    </tr>\n",
       "    <tr>\n",
       "      <th>1</th>\n",
       "      <td>0</td>\n",
       "      <td>0</td>\n",
       "      <td>0</td>\n",
       "      <td>0</td>\n",
       "      <td>0</td>\n",
       "      <td>0</td>\n",
       "      <td>0</td>\n",
       "      <td>0</td>\n",
       "      <td>0</td>\n",
       "      <td>0</td>\n",
       "      <td>...</td>\n",
       "      <td>0</td>\n",
       "      <td>0</td>\n",
       "      <td>0</td>\n",
       "      <td>0</td>\n",
       "      <td>0</td>\n",
       "      <td>0</td>\n",
       "      <td>0</td>\n",
       "      <td>0</td>\n",
       "      <td>0</td>\n",
       "      <td>0</td>\n",
       "    </tr>\n",
       "    <tr>\n",
       "      <th>2</th>\n",
       "      <td>4</td>\n",
       "      <td>0</td>\n",
       "      <td>0</td>\n",
       "      <td>0</td>\n",
       "      <td>0</td>\n",
       "      <td>0</td>\n",
       "      <td>0</td>\n",
       "      <td>0</td>\n",
       "      <td>0</td>\n",
       "      <td>0</td>\n",
       "      <td>...</td>\n",
       "      <td>0</td>\n",
       "      <td>0</td>\n",
       "      <td>0</td>\n",
       "      <td>0</td>\n",
       "      <td>0</td>\n",
       "      <td>0</td>\n",
       "      <td>0</td>\n",
       "      <td>0</td>\n",
       "      <td>0</td>\n",
       "      <td>0</td>\n",
       "    </tr>\n",
       "    <tr>\n",
       "      <th>3</th>\n",
       "      <td>1</td>\n",
       "      <td>0</td>\n",
       "      <td>0</td>\n",
       "      <td>0</td>\n",
       "      <td>0</td>\n",
       "      <td>0</td>\n",
       "      <td>0</td>\n",
       "      <td>0</td>\n",
       "      <td>0</td>\n",
       "      <td>0</td>\n",
       "      <td>...</td>\n",
       "      <td>0</td>\n",
       "      <td>0</td>\n",
       "      <td>0</td>\n",
       "      <td>0</td>\n",
       "      <td>0</td>\n",
       "      <td>0</td>\n",
       "      <td>0</td>\n",
       "      <td>0</td>\n",
       "      <td>0</td>\n",
       "      <td>0</td>\n",
       "    </tr>\n",
       "    <tr>\n",
       "      <th>4</th>\n",
       "      <td>9</td>\n",
       "      <td>0</td>\n",
       "      <td>0</td>\n",
       "      <td>0</td>\n",
       "      <td>0</td>\n",
       "      <td>0</td>\n",
       "      <td>0</td>\n",
       "      <td>0</td>\n",
       "      <td>0</td>\n",
       "      <td>0</td>\n",
       "      <td>...</td>\n",
       "      <td>0</td>\n",
       "      <td>0</td>\n",
       "      <td>0</td>\n",
       "      <td>0</td>\n",
       "      <td>0</td>\n",
       "      <td>0</td>\n",
       "      <td>0</td>\n",
       "      <td>0</td>\n",
       "      <td>0</td>\n",
       "      <td>0</td>\n",
       "    </tr>\n",
       "  </tbody>\n",
       "</table>\n",
       "<p>5 rows × 785 columns</p>\n",
       "</div>"
      ],
      "text/plain": [
       "   0    1    2    3    4    5    6    7    8    9    ...  775  776  777  778  \\\n",
       "0    5    0    0    0    0    0    0    0    0    0  ...    0    0    0    0   \n",
       "1    0    0    0    0    0    0    0    0    0    0  ...    0    0    0    0   \n",
       "2    4    0    0    0    0    0    0    0    0    0  ...    0    0    0    0   \n",
       "3    1    0    0    0    0    0    0    0    0    0  ...    0    0    0    0   \n",
       "4    9    0    0    0    0    0    0    0    0    0  ...    0    0    0    0   \n",
       "\n",
       "   779  780  781  782  783  784  \n",
       "0    0    0    0    0    0    0  \n",
       "1    0    0    0    0    0    0  \n",
       "2    0    0    0    0    0    0  \n",
       "3    0    0    0    0    0    0  \n",
       "4    0    0    0    0    0    0  \n",
       "\n",
       "[5 rows x 785 columns]"
      ]
     },
     "execution_count": 3,
     "metadata": {},
     "output_type": "execute_result"
    }
   ],
   "source": [
    "train.head()"
   ]
  },
  {
   "cell_type": "code",
   "execution_count": 4,
   "metadata": {
    "colab": {
     "base_uri": "https://localhost:8080/",
     "height": 346
    },
    "id": "TeB_NSUQi1Px",
    "outputId": "7a87ddd6-b778-4957-879a-a1e513850d7b"
   },
   "outputs": [
    {
     "data": {
      "text/html": [
       "<div>\n",
       "<style scoped>\n",
       "    .dataframe tbody tr th:only-of-type {\n",
       "        vertical-align: middle;\n",
       "    }\n",
       "\n",
       "    .dataframe tbody tr th {\n",
       "        vertical-align: top;\n",
       "    }\n",
       "\n",
       "    .dataframe thead th {\n",
       "        text-align: right;\n",
       "    }\n",
       "</style>\n",
       "<table border=\"1\" class=\"dataframe\">\n",
       "  <thead>\n",
       "    <tr style=\"text-align: right;\">\n",
       "      <th></th>\n",
       "      <th>0</th>\n",
       "      <th>1</th>\n",
       "      <th>2</th>\n",
       "      <th>3</th>\n",
       "      <th>4</th>\n",
       "      <th>5</th>\n",
       "      <th>6</th>\n",
       "      <th>7</th>\n",
       "      <th>8</th>\n",
       "      <th>9</th>\n",
       "      <th>...</th>\n",
       "      <th>775</th>\n",
       "      <th>776</th>\n",
       "      <th>777</th>\n",
       "      <th>778</th>\n",
       "      <th>779</th>\n",
       "      <th>780</th>\n",
       "      <th>781</th>\n",
       "      <th>782</th>\n",
       "      <th>783</th>\n",
       "      <th>784</th>\n",
       "    </tr>\n",
       "  </thead>\n",
       "  <tbody>\n",
       "    <tr>\n",
       "      <th>count</th>\n",
       "      <td>60000.000000</td>\n",
       "      <td>60000.0</td>\n",
       "      <td>60000.0</td>\n",
       "      <td>60000.0</td>\n",
       "      <td>60000.0</td>\n",
       "      <td>60000.0</td>\n",
       "      <td>60000.0</td>\n",
       "      <td>60000.0</td>\n",
       "      <td>60000.0</td>\n",
       "      <td>60000.0</td>\n",
       "      <td>...</td>\n",
       "      <td>60000.000000</td>\n",
       "      <td>60000.000000</td>\n",
       "      <td>60000.000000</td>\n",
       "      <td>60000.000000</td>\n",
       "      <td>60000.000000</td>\n",
       "      <td>60000.0000</td>\n",
       "      <td>60000.0</td>\n",
       "      <td>60000.0</td>\n",
       "      <td>60000.0</td>\n",
       "      <td>60000.0</td>\n",
       "    </tr>\n",
       "    <tr>\n",
       "      <th>mean</th>\n",
       "      <td>4.453933</td>\n",
       "      <td>0.0</td>\n",
       "      <td>0.0</td>\n",
       "      <td>0.0</td>\n",
       "      <td>0.0</td>\n",
       "      <td>0.0</td>\n",
       "      <td>0.0</td>\n",
       "      <td>0.0</td>\n",
       "      <td>0.0</td>\n",
       "      <td>0.0</td>\n",
       "      <td>...</td>\n",
       "      <td>0.200433</td>\n",
       "      <td>0.088867</td>\n",
       "      <td>0.045633</td>\n",
       "      <td>0.019283</td>\n",
       "      <td>0.015117</td>\n",
       "      <td>0.0020</td>\n",
       "      <td>0.0</td>\n",
       "      <td>0.0</td>\n",
       "      <td>0.0</td>\n",
       "      <td>0.0</td>\n",
       "    </tr>\n",
       "    <tr>\n",
       "      <th>std</th>\n",
       "      <td>2.889270</td>\n",
       "      <td>0.0</td>\n",
       "      <td>0.0</td>\n",
       "      <td>0.0</td>\n",
       "      <td>0.0</td>\n",
       "      <td>0.0</td>\n",
       "      <td>0.0</td>\n",
       "      <td>0.0</td>\n",
       "      <td>0.0</td>\n",
       "      <td>0.0</td>\n",
       "      <td>...</td>\n",
       "      <td>6.042472</td>\n",
       "      <td>3.956189</td>\n",
       "      <td>2.839845</td>\n",
       "      <td>1.686770</td>\n",
       "      <td>1.678283</td>\n",
       "      <td>0.3466</td>\n",
       "      <td>0.0</td>\n",
       "      <td>0.0</td>\n",
       "      <td>0.0</td>\n",
       "      <td>0.0</td>\n",
       "    </tr>\n",
       "    <tr>\n",
       "      <th>min</th>\n",
       "      <td>0.000000</td>\n",
       "      <td>0.0</td>\n",
       "      <td>0.0</td>\n",
       "      <td>0.0</td>\n",
       "      <td>0.0</td>\n",
       "      <td>0.0</td>\n",
       "      <td>0.0</td>\n",
       "      <td>0.0</td>\n",
       "      <td>0.0</td>\n",
       "      <td>0.0</td>\n",
       "      <td>...</td>\n",
       "      <td>0.000000</td>\n",
       "      <td>0.000000</td>\n",
       "      <td>0.000000</td>\n",
       "      <td>0.000000</td>\n",
       "      <td>0.000000</td>\n",
       "      <td>0.0000</td>\n",
       "      <td>0.0</td>\n",
       "      <td>0.0</td>\n",
       "      <td>0.0</td>\n",
       "      <td>0.0</td>\n",
       "    </tr>\n",
       "    <tr>\n",
       "      <th>25%</th>\n",
       "      <td>2.000000</td>\n",
       "      <td>0.0</td>\n",
       "      <td>0.0</td>\n",
       "      <td>0.0</td>\n",
       "      <td>0.0</td>\n",
       "      <td>0.0</td>\n",
       "      <td>0.0</td>\n",
       "      <td>0.0</td>\n",
       "      <td>0.0</td>\n",
       "      <td>0.0</td>\n",
       "      <td>...</td>\n",
       "      <td>0.000000</td>\n",
       "      <td>0.000000</td>\n",
       "      <td>0.000000</td>\n",
       "      <td>0.000000</td>\n",
       "      <td>0.000000</td>\n",
       "      <td>0.0000</td>\n",
       "      <td>0.0</td>\n",
       "      <td>0.0</td>\n",
       "      <td>0.0</td>\n",
       "      <td>0.0</td>\n",
       "    </tr>\n",
       "    <tr>\n",
       "      <th>50%</th>\n",
       "      <td>4.000000</td>\n",
       "      <td>0.0</td>\n",
       "      <td>0.0</td>\n",
       "      <td>0.0</td>\n",
       "      <td>0.0</td>\n",
       "      <td>0.0</td>\n",
       "      <td>0.0</td>\n",
       "      <td>0.0</td>\n",
       "      <td>0.0</td>\n",
       "      <td>0.0</td>\n",
       "      <td>...</td>\n",
       "      <td>0.000000</td>\n",
       "      <td>0.000000</td>\n",
       "      <td>0.000000</td>\n",
       "      <td>0.000000</td>\n",
       "      <td>0.000000</td>\n",
       "      <td>0.0000</td>\n",
       "      <td>0.0</td>\n",
       "      <td>0.0</td>\n",
       "      <td>0.0</td>\n",
       "      <td>0.0</td>\n",
       "    </tr>\n",
       "    <tr>\n",
       "      <th>75%</th>\n",
       "      <td>7.000000</td>\n",
       "      <td>0.0</td>\n",
       "      <td>0.0</td>\n",
       "      <td>0.0</td>\n",
       "      <td>0.0</td>\n",
       "      <td>0.0</td>\n",
       "      <td>0.0</td>\n",
       "      <td>0.0</td>\n",
       "      <td>0.0</td>\n",
       "      <td>0.0</td>\n",
       "      <td>...</td>\n",
       "      <td>0.000000</td>\n",
       "      <td>0.000000</td>\n",
       "      <td>0.000000</td>\n",
       "      <td>0.000000</td>\n",
       "      <td>0.000000</td>\n",
       "      <td>0.0000</td>\n",
       "      <td>0.0</td>\n",
       "      <td>0.0</td>\n",
       "      <td>0.0</td>\n",
       "      <td>0.0</td>\n",
       "    </tr>\n",
       "    <tr>\n",
       "      <th>max</th>\n",
       "      <td>9.000000</td>\n",
       "      <td>0.0</td>\n",
       "      <td>0.0</td>\n",
       "      <td>0.0</td>\n",
       "      <td>0.0</td>\n",
       "      <td>0.0</td>\n",
       "      <td>0.0</td>\n",
       "      <td>0.0</td>\n",
       "      <td>0.0</td>\n",
       "      <td>0.0</td>\n",
       "      <td>...</td>\n",
       "      <td>254.000000</td>\n",
       "      <td>254.000000</td>\n",
       "      <td>253.000000</td>\n",
       "      <td>253.000000</td>\n",
       "      <td>254.000000</td>\n",
       "      <td>62.0000</td>\n",
       "      <td>0.0</td>\n",
       "      <td>0.0</td>\n",
       "      <td>0.0</td>\n",
       "      <td>0.0</td>\n",
       "    </tr>\n",
       "  </tbody>\n",
       "</table>\n",
       "<p>8 rows × 785 columns</p>\n",
       "</div>"
      ],
      "text/plain": [
       "                0        1        2        3        4        5        6    \\\n",
       "count  60000.000000  60000.0  60000.0  60000.0  60000.0  60000.0  60000.0   \n",
       "mean       4.453933      0.0      0.0      0.0      0.0      0.0      0.0   \n",
       "std        2.889270      0.0      0.0      0.0      0.0      0.0      0.0   \n",
       "min        0.000000      0.0      0.0      0.0      0.0      0.0      0.0   \n",
       "25%        2.000000      0.0      0.0      0.0      0.0      0.0      0.0   \n",
       "50%        4.000000      0.0      0.0      0.0      0.0      0.0      0.0   \n",
       "75%        7.000000      0.0      0.0      0.0      0.0      0.0      0.0   \n",
       "max        9.000000      0.0      0.0      0.0      0.0      0.0      0.0   \n",
       "\n",
       "           7        8        9    ...           775           776  \\\n",
       "count  60000.0  60000.0  60000.0  ...  60000.000000  60000.000000   \n",
       "mean       0.0      0.0      0.0  ...      0.200433      0.088867   \n",
       "std        0.0      0.0      0.0  ...      6.042472      3.956189   \n",
       "min        0.0      0.0      0.0  ...      0.000000      0.000000   \n",
       "25%        0.0      0.0      0.0  ...      0.000000      0.000000   \n",
       "50%        0.0      0.0      0.0  ...      0.000000      0.000000   \n",
       "75%        0.0      0.0      0.0  ...      0.000000      0.000000   \n",
       "max        0.0      0.0      0.0  ...    254.000000    254.000000   \n",
       "\n",
       "                777           778           779         780      781      782  \\\n",
       "count  60000.000000  60000.000000  60000.000000  60000.0000  60000.0  60000.0   \n",
       "mean       0.045633      0.019283      0.015117      0.0020      0.0      0.0   \n",
       "std        2.839845      1.686770      1.678283      0.3466      0.0      0.0   \n",
       "min        0.000000      0.000000      0.000000      0.0000      0.0      0.0   \n",
       "25%        0.000000      0.000000      0.000000      0.0000      0.0      0.0   \n",
       "50%        0.000000      0.000000      0.000000      0.0000      0.0      0.0   \n",
       "75%        0.000000      0.000000      0.000000      0.0000      0.0      0.0   \n",
       "max      253.000000    253.000000    254.000000     62.0000      0.0      0.0   \n",
       "\n",
       "           783      784  \n",
       "count  60000.0  60000.0  \n",
       "mean       0.0      0.0  \n",
       "std        0.0      0.0  \n",
       "min        0.0      0.0  \n",
       "25%        0.0      0.0  \n",
       "50%        0.0      0.0  \n",
       "75%        0.0      0.0  \n",
       "max        0.0      0.0  \n",
       "\n",
       "[8 rows x 785 columns]"
      ]
     },
     "execution_count": 4,
     "metadata": {},
     "output_type": "execute_result"
    }
   ],
   "source": [
    "train.describe()"
   ]
  },
  {
   "cell_type": "code",
   "execution_count": 5,
   "metadata": {
    "colab": {
     "base_uri": "https://localhost:8080/",
     "height": 439
    },
    "id": "BzCZAIgkCWJc",
    "outputId": "43a3a774-72c2-443e-ec51-142eb86a70b2"
   },
   "outputs": [
    {
     "data": {
      "text/html": [
       "<div>\n",
       "<style scoped>\n",
       "    .dataframe tbody tr th:only-of-type {\n",
       "        vertical-align: middle;\n",
       "    }\n",
       "\n",
       "    .dataframe tbody tr th {\n",
       "        vertical-align: top;\n",
       "    }\n",
       "\n",
       "    .dataframe thead th {\n",
       "        text-align: right;\n",
       "    }\n",
       "</style>\n",
       "<table border=\"1\" class=\"dataframe\">\n",
       "  <thead>\n",
       "    <tr style=\"text-align: right;\">\n",
       "      <th></th>\n",
       "      <th>0</th>\n",
       "      <th>1</th>\n",
       "      <th>2</th>\n",
       "      <th>3</th>\n",
       "      <th>4</th>\n",
       "      <th>5</th>\n",
       "      <th>6</th>\n",
       "      <th>7</th>\n",
       "      <th>8</th>\n",
       "      <th>9</th>\n",
       "      <th>...</th>\n",
       "      <th>775</th>\n",
       "      <th>776</th>\n",
       "      <th>777</th>\n",
       "      <th>778</th>\n",
       "      <th>779</th>\n",
       "      <th>780</th>\n",
       "      <th>781</th>\n",
       "      <th>782</th>\n",
       "      <th>783</th>\n",
       "      <th>784</th>\n",
       "    </tr>\n",
       "  </thead>\n",
       "  <tbody>\n",
       "    <tr>\n",
       "      <th>0</th>\n",
       "      <td>5</td>\n",
       "      <td>0</td>\n",
       "      <td>0</td>\n",
       "      <td>0</td>\n",
       "      <td>0</td>\n",
       "      <td>0</td>\n",
       "      <td>0</td>\n",
       "      <td>0</td>\n",
       "      <td>0</td>\n",
       "      <td>0</td>\n",
       "      <td>...</td>\n",
       "      <td>0</td>\n",
       "      <td>0</td>\n",
       "      <td>0</td>\n",
       "      <td>0</td>\n",
       "      <td>0</td>\n",
       "      <td>0</td>\n",
       "      <td>0</td>\n",
       "      <td>0</td>\n",
       "      <td>0</td>\n",
       "      <td>0</td>\n",
       "    </tr>\n",
       "    <tr>\n",
       "      <th>1</th>\n",
       "      <td>0</td>\n",
       "      <td>0</td>\n",
       "      <td>0</td>\n",
       "      <td>0</td>\n",
       "      <td>0</td>\n",
       "      <td>0</td>\n",
       "      <td>0</td>\n",
       "      <td>0</td>\n",
       "      <td>0</td>\n",
       "      <td>0</td>\n",
       "      <td>...</td>\n",
       "      <td>0</td>\n",
       "      <td>0</td>\n",
       "      <td>0</td>\n",
       "      <td>0</td>\n",
       "      <td>0</td>\n",
       "      <td>0</td>\n",
       "      <td>0</td>\n",
       "      <td>0</td>\n",
       "      <td>0</td>\n",
       "      <td>0</td>\n",
       "    </tr>\n",
       "    <tr>\n",
       "      <th>2</th>\n",
       "      <td>4</td>\n",
       "      <td>0</td>\n",
       "      <td>0</td>\n",
       "      <td>0</td>\n",
       "      <td>0</td>\n",
       "      <td>0</td>\n",
       "      <td>0</td>\n",
       "      <td>0</td>\n",
       "      <td>0</td>\n",
       "      <td>0</td>\n",
       "      <td>...</td>\n",
       "      <td>0</td>\n",
       "      <td>0</td>\n",
       "      <td>0</td>\n",
       "      <td>0</td>\n",
       "      <td>0</td>\n",
       "      <td>0</td>\n",
       "      <td>0</td>\n",
       "      <td>0</td>\n",
       "      <td>0</td>\n",
       "      <td>0</td>\n",
       "    </tr>\n",
       "    <tr>\n",
       "      <th>3</th>\n",
       "      <td>1</td>\n",
       "      <td>0</td>\n",
       "      <td>0</td>\n",
       "      <td>0</td>\n",
       "      <td>0</td>\n",
       "      <td>0</td>\n",
       "      <td>0</td>\n",
       "      <td>0</td>\n",
       "      <td>0</td>\n",
       "      <td>0</td>\n",
       "      <td>...</td>\n",
       "      <td>0</td>\n",
       "      <td>0</td>\n",
       "      <td>0</td>\n",
       "      <td>0</td>\n",
       "      <td>0</td>\n",
       "      <td>0</td>\n",
       "      <td>0</td>\n",
       "      <td>0</td>\n",
       "      <td>0</td>\n",
       "      <td>0</td>\n",
       "    </tr>\n",
       "    <tr>\n",
       "      <th>4</th>\n",
       "      <td>9</td>\n",
       "      <td>0</td>\n",
       "      <td>0</td>\n",
       "      <td>0</td>\n",
       "      <td>0</td>\n",
       "      <td>0</td>\n",
       "      <td>0</td>\n",
       "      <td>0</td>\n",
       "      <td>0</td>\n",
       "      <td>0</td>\n",
       "      <td>...</td>\n",
       "      <td>0</td>\n",
       "      <td>0</td>\n",
       "      <td>0</td>\n",
       "      <td>0</td>\n",
       "      <td>0</td>\n",
       "      <td>0</td>\n",
       "      <td>0</td>\n",
       "      <td>0</td>\n",
       "      <td>0</td>\n",
       "      <td>0</td>\n",
       "    </tr>\n",
       "    <tr>\n",
       "      <th>...</th>\n",
       "      <td>...</td>\n",
       "      <td>...</td>\n",
       "      <td>...</td>\n",
       "      <td>...</td>\n",
       "      <td>...</td>\n",
       "      <td>...</td>\n",
       "      <td>...</td>\n",
       "      <td>...</td>\n",
       "      <td>...</td>\n",
       "      <td>...</td>\n",
       "      <td>...</td>\n",
       "      <td>...</td>\n",
       "      <td>...</td>\n",
       "      <td>...</td>\n",
       "      <td>...</td>\n",
       "      <td>...</td>\n",
       "      <td>...</td>\n",
       "      <td>...</td>\n",
       "      <td>...</td>\n",
       "      <td>...</td>\n",
       "      <td>...</td>\n",
       "    </tr>\n",
       "    <tr>\n",
       "      <th>59995</th>\n",
       "      <td>8</td>\n",
       "      <td>0</td>\n",
       "      <td>0</td>\n",
       "      <td>0</td>\n",
       "      <td>0</td>\n",
       "      <td>0</td>\n",
       "      <td>0</td>\n",
       "      <td>0</td>\n",
       "      <td>0</td>\n",
       "      <td>0</td>\n",
       "      <td>...</td>\n",
       "      <td>0</td>\n",
       "      <td>0</td>\n",
       "      <td>0</td>\n",
       "      <td>0</td>\n",
       "      <td>0</td>\n",
       "      <td>0</td>\n",
       "      <td>0</td>\n",
       "      <td>0</td>\n",
       "      <td>0</td>\n",
       "      <td>0</td>\n",
       "    </tr>\n",
       "    <tr>\n",
       "      <th>59996</th>\n",
       "      <td>3</td>\n",
       "      <td>0</td>\n",
       "      <td>0</td>\n",
       "      <td>0</td>\n",
       "      <td>0</td>\n",
       "      <td>0</td>\n",
       "      <td>0</td>\n",
       "      <td>0</td>\n",
       "      <td>0</td>\n",
       "      <td>0</td>\n",
       "      <td>...</td>\n",
       "      <td>0</td>\n",
       "      <td>0</td>\n",
       "      <td>0</td>\n",
       "      <td>0</td>\n",
       "      <td>0</td>\n",
       "      <td>0</td>\n",
       "      <td>0</td>\n",
       "      <td>0</td>\n",
       "      <td>0</td>\n",
       "      <td>0</td>\n",
       "    </tr>\n",
       "    <tr>\n",
       "      <th>59997</th>\n",
       "      <td>5</td>\n",
       "      <td>0</td>\n",
       "      <td>0</td>\n",
       "      <td>0</td>\n",
       "      <td>0</td>\n",
       "      <td>0</td>\n",
       "      <td>0</td>\n",
       "      <td>0</td>\n",
       "      <td>0</td>\n",
       "      <td>0</td>\n",
       "      <td>...</td>\n",
       "      <td>0</td>\n",
       "      <td>0</td>\n",
       "      <td>0</td>\n",
       "      <td>0</td>\n",
       "      <td>0</td>\n",
       "      <td>0</td>\n",
       "      <td>0</td>\n",
       "      <td>0</td>\n",
       "      <td>0</td>\n",
       "      <td>0</td>\n",
       "    </tr>\n",
       "    <tr>\n",
       "      <th>59998</th>\n",
       "      <td>6</td>\n",
       "      <td>0</td>\n",
       "      <td>0</td>\n",
       "      <td>0</td>\n",
       "      <td>0</td>\n",
       "      <td>0</td>\n",
       "      <td>0</td>\n",
       "      <td>0</td>\n",
       "      <td>0</td>\n",
       "      <td>0</td>\n",
       "      <td>...</td>\n",
       "      <td>0</td>\n",
       "      <td>0</td>\n",
       "      <td>0</td>\n",
       "      <td>0</td>\n",
       "      <td>0</td>\n",
       "      <td>0</td>\n",
       "      <td>0</td>\n",
       "      <td>0</td>\n",
       "      <td>0</td>\n",
       "      <td>0</td>\n",
       "    </tr>\n",
       "    <tr>\n",
       "      <th>59999</th>\n",
       "      <td>8</td>\n",
       "      <td>0</td>\n",
       "      <td>0</td>\n",
       "      <td>0</td>\n",
       "      <td>0</td>\n",
       "      <td>0</td>\n",
       "      <td>0</td>\n",
       "      <td>0</td>\n",
       "      <td>0</td>\n",
       "      <td>0</td>\n",
       "      <td>...</td>\n",
       "      <td>0</td>\n",
       "      <td>0</td>\n",
       "      <td>0</td>\n",
       "      <td>0</td>\n",
       "      <td>0</td>\n",
       "      <td>0</td>\n",
       "      <td>0</td>\n",
       "      <td>0</td>\n",
       "      <td>0</td>\n",
       "      <td>0</td>\n",
       "    </tr>\n",
       "  </tbody>\n",
       "</table>\n",
       "<p>60000 rows × 785 columns</p>\n",
       "</div>"
      ],
      "text/plain": [
       "       0    1    2    3    4    5    6    7    8    9    ...  775  776  777  \\\n",
       "0        5    0    0    0    0    0    0    0    0    0  ...    0    0    0   \n",
       "1        0    0    0    0    0    0    0    0    0    0  ...    0    0    0   \n",
       "2        4    0    0    0    0    0    0    0    0    0  ...    0    0    0   \n",
       "3        1    0    0    0    0    0    0    0    0    0  ...    0    0    0   \n",
       "4        9    0    0    0    0    0    0    0    0    0  ...    0    0    0   \n",
       "...    ...  ...  ...  ...  ...  ...  ...  ...  ...  ...  ...  ...  ...  ...   \n",
       "59995    8    0    0    0    0    0    0    0    0    0  ...    0    0    0   \n",
       "59996    3    0    0    0    0    0    0    0    0    0  ...    0    0    0   \n",
       "59997    5    0    0    0    0    0    0    0    0    0  ...    0    0    0   \n",
       "59998    6    0    0    0    0    0    0    0    0    0  ...    0    0    0   \n",
       "59999    8    0    0    0    0    0    0    0    0    0  ...    0    0    0   \n",
       "\n",
       "       778  779  780  781  782  783  784  \n",
       "0        0    0    0    0    0    0    0  \n",
       "1        0    0    0    0    0    0    0  \n",
       "2        0    0    0    0    0    0    0  \n",
       "3        0    0    0    0    0    0    0  \n",
       "4        0    0    0    0    0    0    0  \n",
       "...    ...  ...  ...  ...  ...  ...  ...  \n",
       "59995    0    0    0    0    0    0    0  \n",
       "59996    0    0    0    0    0    0    0  \n",
       "59997    0    0    0    0    0    0    0  \n",
       "59998    0    0    0    0    0    0    0  \n",
       "59999    0    0    0    0    0    0    0  \n",
       "\n",
       "[60000 rows x 785 columns]"
      ]
     },
     "execution_count": 5,
     "metadata": {},
     "output_type": "execute_result"
    }
   ],
   "source": [
    "train"
   ]
  },
  {
   "cell_type": "markdown",
   "metadata": {
    "id": "IONK3_7Mor-W"
   },
   "source": [
    "#### 0.1.1. Check for missing values"
   ]
  },
  {
   "cell_type": "code",
   "execution_count": 6,
   "metadata": {
    "id": "EKdZAqeuo198"
   },
   "outputs": [],
   "source": [
    "def missing(df):\n",
    "    miss = (df.isnull().count() - df.count()).sort_values(ascending = False)\n",
    "    perc = miss / df.isnull().count()\n",
    "    data_missing = pd.concat([miss, perc], axis = 1, keys = ['total', 'percentage'])\n",
    "    print(data_missing[data_missing.percentage>0], '\\n')"
   ]
  },
  {
   "cell_type": "code",
   "execution_count": 7,
   "metadata": {
    "colab": {
     "base_uri": "https://localhost:8080/"
    },
    "id": "xZT72f9ljnvM",
    "outputId": "9d2d64cd-25d8-400f-d7e1-5ccb07acc8fe"
   },
   "outputs": [
    {
     "name": "stdout",
     "output_type": "stream",
     "text": [
      "Empty DataFrame\n",
      "Columns: [total, percentage]\n",
      "Index: [] \n",
      "\n",
      "Empty DataFrame\n",
      "Columns: [total, percentage]\n",
      "Index: [] \n",
      "\n"
     ]
    }
   ],
   "source": [
    "missing(train)\n",
    "missing(test)"
   ]
  },
  {
   "cell_type": "markdown",
   "metadata": {
    "id": "lk0cyQIkpCW_"
   },
   "source": [
    "#### 0.1.2. Define train and test sets and scale the data"
   ]
  },
  {
   "cell_type": "code",
   "execution_count": 8,
   "metadata": {
    "id": "SZzW3bgpg2DB"
   },
   "outputs": [],
   "source": [
    "X_train = train.loc[:,1:]\n",
    "y_train = train.loc[:,0]"
   ]
  },
  {
   "cell_type": "code",
   "execution_count": 9,
   "metadata": {
    "id": "IPsjOReaguSJ"
   },
   "outputs": [],
   "source": [
    "X_test = test.loc[:,1:]\n",
    "y_test = test.loc[:,0]"
   ]
  },
  {
   "cell_type": "code",
   "execution_count": 10,
   "metadata": {
    "id": "X0kSI8w0j8nc"
   },
   "outputs": [],
   "source": [
    "# Scaling \n",
    "X_train /= 255\n",
    "X_test /= 255"
   ]
  },
  {
   "cell_type": "code",
   "execution_count": 11,
   "metadata": {
    "id": "P6mN2QIrB4ib"
   },
   "outputs": [],
   "source": [
    "X_train = X_train.to_numpy()\n",
    "y_train = y_train.to_numpy()\n",
    "\n",
    "X_test = X_test.to_numpy()\n",
    "y_test = y_test.to_numpy()"
   ]
  },
  {
   "cell_type": "code",
   "execution_count": 12,
   "metadata": {
    "colab": {
     "base_uri": "https://localhost:8080/"
    },
    "id": "O2Aoy2s8CmCI",
    "outputId": "374181d9-e1d2-4afb-d102-e9e629783098"
   },
   "outputs": [
    {
     "name": "stdout",
     "output_type": "stream",
     "text": [
      "(60000, 784) (10000, 784)\n"
     ]
    }
   ],
   "source": [
    "# Data shapes\n",
    "n_train = X_train.shape[0]\n",
    "n_test = X_test.shape[0]\n",
    "p = X_train.shape[1]\n",
    "\n",
    "print(X_train.shape, X_test.shape)"
   ]
  },
  {
   "cell_type": "markdown",
   "metadata": {
    "id": "4HvdyLIopWHe"
   },
   "source": [
    "#### 0.1.3. Consider the binary classification problem 0 vs. other digits"
   ]
  },
  {
   "cell_type": "code",
   "execution_count": 13,
   "metadata": {
    "id": "T6NEuR4MAKJt"
   },
   "outputs": [],
   "source": [
    "for i in range(n_train):\n",
    "    if y_train[i] == 0: y_train[i] = 1\n",
    "    else: y_train[i] = -1\n",
    "\n",
    "for i in range(n_test):\n",
    "    if y_test[i] == 0: y_test[i] = 1\n",
    "    else: y_test[i] = -1"
   ]
  },
  {
   "cell_type": "markdown",
   "metadata": {
    "id": "IZOvXewkm57t"
   },
   "source": [
    "### 0.2 Hinge Loss and its Gradient"
   ]
  },
  {
   "cell_type": "code",
   "execution_count": 14,
   "metadata": {
    "id": "3g8oUKsFm_07"
   },
   "outputs": [],
   "source": [
    "def hinge_loss(x, a, b, lamda):\n",
    "    'a: data matrix'\n",
    "    'b: labels'\n",
    "    cost = 1 - b * (a.dot(x)) \n",
    "    cost[cost < 0] = 0\n",
    "    loss = np.mean(cost) \n",
    "    return loss + lamda/2 * np.linalg.norm(x)**2"
   ]
  },
  {
   "cell_type": "code",
   "execution_count": 15,
   "metadata": {
    "id": "dSnIY_IytBBf"
   },
   "outputs": [],
   "source": [
    "def gradient(x, a, b, lamda):\n",
    "    'The corresponding gradient'\n",
    "    'Same parameters'\n",
    "    thd = b * (a.dot(x))\n",
    "    gd = - b.reshape(-1,1) * a\n",
    "    gd[thd > 1] = 0\n",
    "    return gd.mean() + lamda * x"
   ]
  },
  {
   "cell_type": "code",
   "execution_count": 16,
   "metadata": {
    "id": "LODCnEBAt9_k"
   },
   "outputs": [],
   "source": [
    "def inst_gradient(x, a, b, lamda):\n",
    "    'Gradient at iteration t'\n",
    "    'Calculated only with one observation'\n",
    "    thd = b * (a.dot(x))\n",
    "    gd = - b * a\n",
    "    gd[thd > 1] = 0\n",
    "    return gd + lamda * x"
   ]
  },
  {
   "cell_type": "markdown",
   "metadata": {
    "id": "GdkfNi00laCe"
   },
   "source": [
    "# 1. Gradient Descent\n",
    "\n",
    "We start by implementing deterministic Gradient Descent and evaluate its performance. In what follows, the classic GD is implemented. "
   ]
  },
  {
   "cell_type": "markdown",
   "metadata": {
    "id": "HiQHqsYbJTKH"
   },
   "source": [
    "### 1.1 Algorithm"
   ]
  },
  {
   "cell_type": "code",
   "execution_count": 17,
   "metadata": {
    "id": "Kvp1poLQlPXW"
   },
   "outputs": [],
   "source": [
    "def gradient_descent(a, b , cost, grad, lamda, eta, n_iters):\n",
    "    x = np.ones(a.shape[1])\n",
    "    gradi = grad(x, a, b, lamda)\n",
    "    cost_values, x_iter = [], np.zeros((a.shape[1], n_iters))\n",
    "    x_iter[:,0] = x\n",
    "    \n",
    "    for t in range(1,n_iters):\n",
    "        eta /= t\n",
    "        #eta = np.sqrt(t)\n",
    "        x -= 0.1 * gradi\n",
    "        gradi = grad(x, a, b, lamda)\n",
    "        cost_values.append(cost(x,a,b,lamda))\n",
    "        x_iter[:,t] = x\n",
    "        \n",
    "    return cost_values, x_iter, x"
   ]
  },
  {
   "cell_type": "code",
   "execution_count": 18,
   "metadata": {
    "id": "XzCHXLrWxUPS"
   },
   "outputs": [],
   "source": [
    "cost_gd, x_iter_gd, x_gd = gradient_descent(X_train, y_train, \n",
    "                                           hinge_loss, gradient, \n",
    "                                           0.01, 0.01, \n",
    "                                           n_iters = 500)"
   ]
  },
  {
   "cell_type": "code",
   "execution_count": 20,
   "metadata": {
    "id": "1GOXtBEPJTKI"
   },
   "outputs": [],
   "source": [
    "liss = []\n",
    "iterations = np.arange(0,500)\n",
    "for i in iterations:\n",
    "    tstt = y_test * (X_test.dot(x_iter_gd[:,i]))\n",
    "    liss.append(tstt[tstt>0].shape[0]/y_test.shape[0])"
   ]
  },
  {
   "cell_type": "code",
   "execution_count": 21,
   "metadata": {
    "colab": {
     "base_uri": "https://localhost:8080/",
     "height": 295
    },
    "id": "JRjCP8roR3_A",
    "outputId": "6fbb5898-30c6-49ee-ad5b-e2ef9291e930"
   },
   "outputs": [
    {
     "data": {
      "image/png": "[encoded data removed]",
      "text/plain": [
       "<Figure size 432x288 with 1 Axes>"
      ]
     },
     "metadata": {
      "needs_background": "light",
      "tags": []
     },
     "output_type": "display_data"
    }
   ],
   "source": [
    "plt.plot(iterations, liss, color = 'red')\n",
    "plt.xlabel('Iterations')\n",
    "plt.ylabel('Accuracy')\n",
    "plt.title('Gradient Descent');"
   ]
  },
  {
   "cell_type": "markdown",
   "metadata": {
    "id": "hjjckuOEpzC7"
   },
   "source": [
    "The starting point $x_0$ is not crucial here, since we consider a convex (or even a strongly convex) loss function. We have theoretical results showing that GD algorithm converges when the objective function is convex. \n",
    "\n",
    "However one must highlight the high computational time of GD in its deterministic version. In what follows, we discuss the effect of the regularization parameter $\\lambda$."
   ]
  },
  {
   "cell_type": "markdown",
   "metadata": {
    "id": "7nhQ6xkgJTKJ"
   },
   "source": [
    "### 1.2 Effect of regularization parameter $\\lambda$"
   ]
  },
  {
   "cell_type": "code",
   "execution_count": 22,
   "metadata": {
    "colab": {
     "base_uri": "https://localhost:8080/",
     "height": 404
    },
    "id": "eMFxN-ZGJTKJ",
    "outputId": "a5cc78c1-9a86-46a3-986d-6ab2cb2e23ce"
   },
   "outputs": [
    {
     "data": {
      "image/png": "[encoded data removed]",
      "text/plain": [
       "<Figure size 720x432 with 1 Axes>"
      ]
     },
     "metadata": {
      "needs_background": "light",
      "tags": []
     },
     "output_type": "display_data"
    }
   ],
   "source": [
    "lamda = [1e-5, 1e-4, 1e-3, 1e-2, 1e-1, 1e0, 1e1]\n",
    "plt.figure(figsize = (10,6))\n",
    "for reg in lamda:\n",
    "    cost_gd, x_iter_gd, x_gd = gradient_descent(X_train, y_train, \n",
    "                                           hinge_loss, gradient, \n",
    "                                           reg, 0.01, \n",
    "                                           n_iters = 500)\n",
    "    liss = []\n",
    "    iterations = np.arange(0,500)\n",
    "    for i in iterations:\n",
    "        tstt = y_test * (X_test.dot(x_iter_gd[:,i]))\n",
    "        liss.append(tstt[tstt>0].shape[0]/y_test.shape[0])\n",
    "    \n",
    "    plt.plot(iterations, liss, label = r'$\\lambda$ = {}'.format(reg))\n",
    "    plt.legend(loc = 'best')\n",
    "\n",
    "plt.xlabel('Iterations')\n",
    "plt.ylabel('Accuracy')\n",
    "plt.title('Gradient Descent');"
   ]
  },
  {
   "cell_type": "markdown",
   "metadata": {
    "id": "pIQkao1AJTKJ"
   },
   "source": [
    "As seen above, accurate solutions are obtained faster for bigger regularization parameters. While $\\lambda$ offers computational stability, it may affect the objective functions and thus may result in minimizing a biased loss. \\\\\n",
    "\n",
    "Once again, note that running time is huge for this algorithm, which motivates the use of stochastic versions. \n",
    "\n",
    "In what follows, a projection step, into the $l^1$ ball is considered, adding a new hyperparameter which is the ball's radius."
   ]
  },
  {
   "cell_type": "markdown",
   "metadata": {
    "id": "blxtYBWWQBb7"
   },
   "source": [
    "# 2. Projected Gradient Descent\n",
    "\n",
    "This algorithm uses the $l^1$ projection, which can be obtained by projecting $\\mid x \\mid$ into the simplex $\\Lambda$, and then multiplying by the sign of $x$. These steps are detailed below. "
   ]
  },
  {
   "cell_type": "markdown",
   "metadata": {
    "id": "NFSGwFm7QG9l"
   },
   "source": [
    "### 2.1 Projection on the simplex $\\Lambda$"
   ]
  },
  {
   "cell_type": "code",
   "execution_count": 23,
   "metadata": {
    "id": "2JnCZceVQAMn"
   },
   "outputs": [],
   "source": [
    "def proj_lambda(x,z):\n",
    "    if x.sum() == z: return x\n",
    "    else:\n",
    "        n = x.shape[0]\n",
    "        x = sorted(x, reverse = True)\n",
    "\n",
    "    s = np.cumsum(x) - z\n",
    "    idx = np.arange(n) + 1\n",
    "    cond = x - s/idx > 0\n",
    "\n",
    "    n0 = idx[cond][-1]\n",
    "    theta = s[cond][-1] / n0\n",
    "    proj = np.maximum(x - theta, 0)\n",
    "    return proj"
   ]
  },
  {
   "cell_type": "markdown",
   "metadata": {
    "id": "tHvi4bR3JTKK"
   },
   "source": [
    "#### 2.1.1 Example"
   ]
  },
  {
   "cell_type": "code",
   "execution_count": 24,
   "metadata": {
    "colab": {
     "base_uri": "https://localhost:8080/"
    },
    "id": "ayWmsor-Sxse",
    "outputId": "b194a728-4c56-4038-dab0-08e1da938f2a"
   },
   "outputs": [
    {
     "name": "stdout",
     "output_type": "stream",
     "text": [
      "[0.84802821 0.08549546 0.06647633 0.         0.        ]\n"
     ]
    }
   ],
   "source": [
    "kk = proj_lambda(np.random.normal(loc = 97, size = 5), 1)\n",
    "print(kk)"
   ]
  },
  {
   "cell_type": "markdown",
   "metadata": {
    "id": "PRAEegS6MCPw"
   },
   "source": [
    "### 2.2 Projection on the $l_1$ ball"
   ]
  },
  {
   "cell_type": "code",
   "execution_count": 25,
   "metadata": {
    "id": "f8qYdlHTL7xM"
   },
   "outputs": [],
   "source": [
    "def projection_l1(x,z):\n",
    "    if np.sum(np.abs(x)) <= z: return x\n",
    "    else:\n",
    "        x_proj = proj_lambda(np.abs(x), z)\n",
    "    return np.sign(x) * x_proj"
   ]
  },
  {
   "cell_type": "markdown",
   "metadata": {
    "id": "SzaLAX-ms7ZZ"
   },
   "source": [
    "### 2.3 Projected Gradient Descent (PGD) on the $l_1$ ball\n",
    "\n",
    "Once the projection step is complete, the PGD algorithm can be implemented."
   ]
  },
  {
   "cell_type": "markdown",
   "metadata": {
    "id": "ZqVpiLOLJTKN"
   },
   "source": [
    "#### 2.3.1 Algorithm"
   ]
  },
  {
   "cell_type": "code",
   "execution_count": 26,
   "metadata": {
    "id": "8QM7YmqkgMXN"
   },
   "outputs": [],
   "source": [
    "def proj_gradient_descent(a, b , cost, grad, lamda, z, eta, n_iters):\n",
    "    x = np.random.uniform(1,2,a.shape[1])\n",
    "    gradi = grad(x, a, b, lamda)\n",
    "    cost_values, x_iter = [], np.zeros((a.shape[1], n_iters))\n",
    "    x_iter[:,0] = x\n",
    "    \n",
    "    for t in range(1,n_iters):\n",
    "        eta /= t\n",
    "        #eta = np.sqrt(t)\n",
    "        x -= eta * gradi\n",
    "        x = projection_l1(x,z)\n",
    "        gradi = grad(x, a, b, lamda)\n",
    "        cost_values.append(cost(x,a,b,lamda))\n",
    "        x_iter[:,t] = x\n",
    "        \n",
    "    return cost_values, x_iter, x"
   ]
  },
  {
   "cell_type": "code",
   "execution_count": 27,
   "metadata": {
    "id": "7OYA-c4Et3Mk"
   },
   "outputs": [],
   "source": [
    "cost_pgd, x_pgd_iter, x_pgd = proj_gradient_descent(X_train, y_train, \n",
    "                                                    hinge_loss, gradient, \n",
    "                                                    0.01, 1, \n",
    "                                                    0.01, \n",
    "                                                    n_iters = 500)"
   ]
  },
  {
   "cell_type": "code",
   "execution_count": 28,
   "metadata": {
    "id": "5qzpw8ehJTKO"
   },
   "outputs": [],
   "source": [
    "liss = []\n",
    "iterations = np.arange(0,200)\n",
    "for i in iterations:\n",
    "    tstt = y_test * (X_test.dot(x_pgd_iter[:,i]))\n",
    "    liss.append(tstt[tstt>0].shape[0]/y_test.shape[0])"
   ]
  },
  {
   "cell_type": "code",
   "execution_count": 29,
   "metadata": {
    "colab": {
     "base_uri": "https://localhost:8080/",
     "height": 295
    },
    "id": "wgVb0j1dJTKO",
    "outputId": "fa0f889f-54ce-4184-a730-0b11a81651e0"
   },
   "outputs": [
    {
     "data": {
      "image/png": "[encoded data removed]",
      "text/plain": [
       "<Figure size 432x288 with 1 Axes>"
      ]
     },
     "metadata": {
      "needs_background": "light",
      "tags": []
     },
     "output_type": "display_data"
    }
   ],
   "source": [
    "plt.plot(iterations, liss, color = 'black')\n",
    "plt.xlabel('Iterations')\n",
    "plt.ylabel('Accuracy')\n",
    "plt.title('Projected Gradient Descent');"
   ]
  },
  {
   "cell_type": "markdown",
   "metadata": {
    "id": "ALauqobQJTKP"
   },
   "source": [
    "#### 2.3.2 Effect of the $l^1$ball radius\n",
    "\n",
    "We now discuss the effect of the projection ball on the convergence. "
   ]
  },
  {
   "cell_type": "code",
   "execution_count": 30,
   "metadata": {
    "colab": {
     "base_uri": "https://localhost:8080/",
     "height": 404
    },
    "id": "q2MyJPRRJTKP",
    "outputId": "98d82f3b-5589-41e9-ee45-73cce787bda0"
   },
   "outputs": [
    {
     "data": {
      "image/png": "[encoded data removed]",
      "text/plain": [
       "<Figure size 720x432 with 1 Axes>"
      ]
     },
     "metadata": {
      "needs_background": "light",
      "tags": []
     },
     "output_type": "display_data"
    }
   ],
   "source": [
    "radius = [1e-3, 1e-2, 1e-1, 1e0, 1e1]\n",
    "plt.figure(figsize = (10,6))\n",
    "for z in radius:\n",
    "    cost_pgd, x_pgd_iter, x_pgd = proj_gradient_descent(X_train, y_train, \n",
    "                                                        hinge_loss, gradient, \n",
    "                                                        0.01, z, \n",
    "                                                        0.01, \n",
    "                                                        n_iters = 200)\n",
    "    liss = []\n",
    "    iterations = np.arange(0,200)\n",
    "    for i in iterations:\n",
    "        tstt = y_test * (X_test.dot(x_pgd_iter[:,i]))\n",
    "        liss.append(tstt[tstt>0].shape[0]/y_test.shape[0])\n",
    "    \n",
    "\n",
    "    plt.plot(iterations, liss, label = 'z = {}'.format(z))\n",
    "    plt.legend(loc = 'best')\n",
    "\n",
    "plt.xlabel('Iterations')\n",
    "plt.ylabel('Accuracy')\n",
    "plt.title('Projected Gradient Descent');"
   ]
  },
  {
   "cell_type": "markdown",
   "metadata": {
    "id": "ZttLZiQBPc53"
   },
   "source": [
    "Accuracy decreases when the radius of the projection z is very big. Radiuses in the range $[0.001,1]$ seem to work well.\n",
    "\n",
    "Here also, running time is very high. In what follows, we introduce Stochastic Gradient Descent (SGD) and compare the performance and the running time with non-stochastic GD."
   ]
  },
  {
   "cell_type": "markdown",
   "metadata": {
    "id": "_V03K5p1uo9H"
   },
   "source": [
    "# 3. Stochastic Gradient Descent"
   ]
  },
  {
   "cell_type": "markdown",
   "metadata": {
    "id": "LApuHzSZ0nif"
   },
   "source": [
    "### 3.1 Stochastic Gradient Descent (SGD)\n",
    "\n",
    "The most basic stochastic algorithm is the Stochastic Gradient Descent. Only one coordinate is used to update the gradient, allowing much lower computational time. As it will be seen, SGD does as well as, and even better than the deterministic GD. \n"
   ]
  },
  {
   "cell_type": "code",
   "execution_count": 31,
   "metadata": {
    "id": "jpvgHZae0T8V"
   },
   "outputs": [],
   "source": [
    "def stoch_gradient_descent(a, b , cost, grad, epoch, lamda, eta):\n",
    "    'epoch = T: number of iterations'\n",
    "    'eta = 1 / (lamda*t)'\n",
    "\n",
    "    x = np.ones(a.shape[1])\n",
    "    idx = np.random.randint(0, a.shape[0], epoch)   # Sample uniformly\n",
    "    a = a[idx,:]\n",
    "    b = b[idx] \n",
    "    x_iter = np.zeros((a.shape[1], epoch+1))\n",
    "    for t in range(1,epoch):\n",
    "        eta = 1 / (lamda * t)\n",
    "        x -= eta * grad(x, a[t,:], b[t], lamda)\n",
    "        x_iter[:,t] = x\n",
    "    x_f = x_iter.mean(axis = 1)\n",
    "    return x_iter, x_f"
   ]
  },
  {
   "cell_type": "code",
   "execution_count": 32,
   "metadata": {
    "id": "SycbDNoW0htO"
   },
   "outputs": [],
   "source": [
    "x_iter_sgd, x_sgd = stoch_gradient_descent(X_train, y_train, hinge_loss, inst_gradient, 5000, 0.001, 0.01)"
   ]
  },
  {
   "cell_type": "code",
   "execution_count": 33,
   "metadata": {
    "id": "rbKAVFXy5UnH"
   },
   "outputs": [],
   "source": [
    "liss_sgd = []\n",
    "iterations_sgd = np.arange(0,5000, 10)\n",
    "for i in iterations_sgd:\n",
    "    tstt_sgd = y_test * (X_test.dot(x_iter_sgd[:,i]))\n",
    "    liss_sgd.append(tstt_sgd[tstt_sgd>0].shape[0]/y_test.shape[0])"
   ]
  },
  {
   "cell_type": "code",
   "execution_count": 34,
   "metadata": {
    "colab": {
     "base_uri": "https://localhost:8080/",
     "height": 295
    },
    "id": "z2i8j0JhZBAj",
    "outputId": "7cc44fde-9e23-4c7f-f108-10d8bdec5cc5"
   },
   "outputs": [
    {
     "data": {
      "image/png": "[encoded data removed]",
      "text/plain": [
       "<Figure size 432x288 with 1 Axes>"
      ]
     },
     "metadata": {
      "needs_background": "light",
      "tags": []
     },
     "output_type": "display_data"
    }
   ],
   "source": [
    "plt.plot(iterations_sgd[:500], liss_sgd[:500], color = 'red')\n",
    "plt.xlabel('Iterations')\n",
    "plt.ylabel('Accuracy')\n",
    "plt.title('Stochastic Gradient Descent vs. PGD');"
   ]
  },
  {
   "cell_type": "markdown",
   "metadata": {
    "id": "9HHaG2PstVHB"
   },
   "source": [
    "We notice the noisy character of SGD. Next, we add an $l^1$ projection step and compare to the projected GD."
   ]
  },
  {
   "cell_type": "markdown",
   "metadata": {
    "id": "KbMpw5DcUCFJ"
   },
   "source": [
    "### 3.2 Projected Stochastic Gradient Descent (PSGD)"
   ]
  },
  {
   "cell_type": "code",
   "execution_count": 35,
   "metadata": {
    "id": "PAAkCdEt8u21"
   },
   "outputs": [],
   "source": [
    "def proj_stoch_gradient_descent(a, b , cost, grad, epoch, lamda, eta, z):\n",
    "    'epoch = T: number of iterations'\n",
    "    'eta = 1 / (lamda*t)'\n",
    "\n",
    "    x = np.zeros(a.shape[1])\n",
    "    idx = np.random.randint(0, a.shape[0], epoch)   # Sample uniformly\n",
    "    a = a[idx,:]\n",
    "    b = b[idx] \n",
    "    x_iter = np.zeros((a.shape[1], epoch+1))\n",
    "    for t in range(1,epoch):\n",
    "        eta = 1 / (lamda * t)\n",
    "        x -= eta * grad(x, a[t,:], b[t], lamda)\n",
    "        x_iter[:,t] = projection_l1(x,z)\n",
    "    x_f = x_iter.mean(axis = 1)\n",
    "    return x_iter, x_f"
   ]
  },
  {
   "cell_type": "code",
   "execution_count": 36,
   "metadata": {
    "id": "09y97tZ-UlyV"
   },
   "outputs": [],
   "source": [
    "x_iter_psgd, x_psgd = proj_stoch_gradient_descent(X_train, y_train, hinge_loss, inst_gradient, 5000, 0.0001, 0.01, 100000)"
   ]
  },
  {
   "cell_type": "code",
   "execution_count": 37,
   "metadata": {
    "id": "hESL3NueVbcs"
   },
   "outputs": [],
   "source": [
    "liss_psgd = []\n",
    "iterations_psgd = np.arange(0,500, 10)\n",
    "for i in iterations_psgd:\n",
    "    tstt_psgd = y_test * (X_test.dot(x_iter_psgd[:,i]))\n",
    "    liss_psgd.append(tstt_psgd[tstt_psgd>0].shape[0]/y_test.shape[0])"
   ]
  },
  {
   "cell_type": "code",
   "execution_count": 38,
   "metadata": {
    "colab": {
     "base_uri": "https://localhost:8080/",
     "height": 295
    },
    "id": "wOLXGEvXYRGE",
    "outputId": "796ebc81-8c98-47f1-efe0-3bfd166e3b08"
   },
   "outputs": [
    {
     "data": {
      "image/png": "[encoded data removed]",
      "text/plain": [
       "<Figure size 432x288 with 1 Axes>"
      ]
     },
     "metadata": {
      "needs_background": "light",
      "tags": []
     },
     "output_type": "display_data"
    }
   ],
   "source": [
    "plt.plot(iterations_psgd, liss_psgd, color = 'red', label = 'psgd')\n",
    "plt.plot(iterations, liss, color = 'black', label = 'pgd')\n",
    "plt.legend(loc = 'best')\n",
    "plt.xlabel('Iterations')\n",
    "plt.ylabel('Accuracy')\n",
    "plt.title('Projected Stochastic Gradient Descent vs. PGD');"
   ]
  },
  {
   "cell_type": "markdown",
   "metadata": {
    "id": "A5nQ5MNIWcH5"
   },
   "source": [
    "Projected Stochastic Gradient Descent outperforms the non-stochastic version. It also has the advantage of very low computational time compared to deterministic PGD. However, as seen during the lectures, PSGD is a very noisy estimator, this can be observed through the high variations in the red curve. This does not prevent the algorithm from being very efficient and powerful. In what follows, stochastic Regularized Follow The Leader is implemented, using different regularization functions. As it will be illustrated, the obtained results are very satisfactory."
   ]
  },
  {
   "cell_type": "markdown",
   "metadata": {
    "id": "Wli77lReZOb3"
   },
   "source": [
    "# 4. Regularized Follow the Leader"
   ]
  },
  {
   "cell_type": "markdown",
   "metadata": {
    "id": "FWdFAX52Zfth"
   },
   "source": [
    "### 4.1 Stochastic Mirror Descent (SMD)\n",
    "\n",
    "It corresponds to the quadratic regularization $R(x) = \\mid \\mid x - x1 \\mid \\mid^2$ where $x_1 \\in \\mathcal{K}$. Here is the algorithm:"
   ]
  },
  {
   "cell_type": "code",
   "execution_count": 39,
   "metadata": {
    "id": "qE6D4WSZZN_I"
   },
   "outputs": [],
   "source": [
    "def stoch_mirror_descent(a, b, cost, grad, epoch, lamda, eta, z):\n",
    "    'Learning rate: eta = 1/sqrt(t)'\n",
    "\n",
    "    y, x = np.zeros(a.shape[1]), np.zeros(a.shape[1])\n",
    "    x_iter = np.zeros((a.shape[1], epoch))\n",
    "    idx = np.random.randint(0, a.shape[0], epoch)\n",
    "    a = a[idx,:]\n",
    "    b = b[idx]\n",
    "    for t in range(1,epoch):\n",
    "        eta = 1 / np.sqrt(t)\n",
    "        y -= eta * grad(x, a[t,:], b[t], lamda)\n",
    "        x = projection_l1(y,z)\n",
    "        x_iter[:,t] = x\n",
    "    x_f = x_iter.mean(axis = 1)\n",
    "    return x_iter, x_f"
   ]
  },
  {
   "cell_type": "code",
   "execution_count": 40,
   "metadata": {
    "id": "kmfwPMN1Vc8f"
   },
   "outputs": [],
   "source": [
    "x_iter_smd, x_smd = stoch_mirror_descent(X_train, y_train, hinge_loss, inst_gradient, 5000, 0.001, 1, 1000)"
   ]
  },
  {
   "cell_type": "code",
   "execution_count": 41,
   "metadata": {
    "id": "7xAYmkMcXCVe"
   },
   "outputs": [],
   "source": [
    "liss_smd = []\n",
    "iterations_smd = np.arange(0, 2500, 20)\n",
    "for i in iterations_smd:\n",
    "    tstt_smd = y_test * (X_test.dot(x_iter_smd[:,i]))\n",
    "    liss_smd.append(tstt_smd[tstt_smd>0].shape[0]/y_test.shape[0])"
   ]
  },
  {
   "cell_type": "code",
   "execution_count": 42,
   "metadata": {
    "id": "KWn4xUfgbFXP"
   },
   "outputs": [],
   "source": [
    "liss_psgd = []\n",
    "iterations_psgd = np.arange(0,2500, 20)\n",
    "for i in iterations_psgd:\n",
    "    tstt_psgd = y_test * (X_test.dot(x_iter_psgd[:,i]))\n",
    "    liss_psgd.append(tstt_psgd[tstt_psgd>0].shape[0]/y_test.shape[0])"
   ]
  },
  {
   "cell_type": "code",
   "execution_count": 43,
   "metadata": {
    "colab": {
     "base_uri": "https://localhost:8080/",
     "height": 295
    },
    "id": "6sanEUHgXIlW",
    "outputId": "d67ac468-e1c4-4f7c-9e1b-1a2249cc17ec"
   },
   "outputs": [
    {
     "data": {
      "image/png": "[encoded data removed]",
      "text/plain": [
       "<Figure size 432x288 with 1 Axes>"
      ]
     },
     "metadata": {
      "needs_background": "light",
      "tags": []
     },
     "output_type": "display_data"
    }
   ],
   "source": [
    "plt.plot(iterations_psgd, liss_psgd, color = 'black', label = 'psgd')\n",
    "plt.plot(iterations_smd, liss_smd, color = 'red', label = 'smd')\n",
    "plt.legend(loc = 'best')\n",
    "plt.xlabel('Iterations')\n",
    "plt.ylabel('Accuracy')\n",
    "plt.title('Stochastic Mirror Descent vs. PSGD');"
   ]
  },
  {
   "cell_type": "markdown",
   "metadata": {
    "id": "Q8TU9lfJYkOm"
   },
   "source": [
    "As the above figure suggests, SMD achieves better performance in fewer iterations. It is also less noisy the PSGD. Both algorithms perform very well and achieve more than $95\\%$ accuracy, which shows once again the efficiency of stochastic algorithms. \n",
    "\n",
    "Next, we introduce a new regularization function, that leads to the Exponentiated Gradient Algorithm."
   ]
  },
  {
   "cell_type": "markdown",
   "metadata": {
    "id": "BLAWpMq0Zj6J"
   },
   "source": [
    "### 4.2 Stochastic Exponentiated Gradient (EG +/-)\n",
    "\n",
    "This algorithm also falls into the RFTL category. It uses the following regularization function, called \\textit{Negative Entropy}:\n",
    "\\begin{equation*}\n",
    "R(x) = x^Tlog(x)\n",
    "\\end{equation*}\n",
    "\n",
    "Below, the algorithm is implemented, in its stochastic version:"
   ]
  },
  {
   "cell_type": "code",
   "execution_count": 44,
   "metadata": {
    "id": "vaNM3K1dZZSq"
   },
   "outputs": [],
   "source": [
    "def stoch_exp_grad(a, b, cost, grad, epoch, lamda, eta, z):\n",
    "  \n",
    "    # Initializations\n",
    "    d = a.shape[1]\n",
    "    x, y, w = np.zeros(d), np.zeros(2*d), 1/(2*d) * np.ones(2*d)\n",
    "    x_iter = np.zeros((d, epoch))\n",
    "  \n",
    "    # Random sampling\n",
    "    idx = np.random.randint(0, a.shape[0], epoch)\n",
    "    a = a[idx,:]\n",
    "    b = b[idx]\n",
    "\n",
    "    # Recursion\n",
    "    for t in range(1, epoch):\n",
    "        eta = np.sqrt(np.log(2*d) / t)\n",
    "        y[:d] -= eta * grad(x, a[t,:], b[t], lamda)\n",
    "        y[d:] += eta * grad(x, a[t,:], b[t], lamda)\n",
    "        w = np.exp(y) / np.sum(np.exp(y))\n",
    "        x = z * (w[:d] - w[d:])\n",
    "        x_iter[:,t] = x\n",
    "  \n",
    "    # Return\n",
    "    x_f = x_iter.mean(axis = 1)\n",
    "    return x_iter, x_f"
   ]
  },
  {
   "cell_type": "code",
   "execution_count": 45,
   "metadata": {
    "id": "t77uKk7-id3Q"
   },
   "outputs": [],
   "source": [
    "x_iter_seg, x_seg = stoch_exp_grad(X_train, y_train, hinge_loss, inst_gradient, 50000, 0.1, 1, 10)"
   ]
  },
  {
   "cell_type": "code",
   "execution_count": 46,
   "metadata": {
    "id": "X3F4lEE7jyCx"
   },
   "outputs": [],
   "source": [
    "liss_seg = []\n",
    "iterations_seg = np.arange(0, 2500, 10)\n",
    "for i in iterations_seg:\n",
    "    tstt_seg = y_test * X_test.dot(x_iter_seg[:,i])\n",
    "    liss_seg.append(tstt_seg[tstt_seg>0].shape[0]/y_test.shape[0])"
   ]
  },
  {
   "cell_type": "code",
   "execution_count": 47,
   "metadata": {
    "colab": {
     "base_uri": "https://localhost:8080/",
     "height": 295
    },
    "id": "Y89sVDr2j7vT",
    "outputId": "9654d142-9428-4090-d85f-547436a13c0f"
   },
   "outputs": [
    {
     "data": {
      "image/png": "[encoded data removed]",
      "text/plain": [
       "<Figure size 432x288 with 1 Axes>"
      ]
     },
     "metadata": {
      "needs_background": "light",
      "tags": []
     },
     "output_type": "display_data"
    }
   ],
   "source": [
    "plt.plot(iterations_psgd, liss_psgd, color = 'black', label = 'psgd')\n",
    "plt.plot(iterations_seg, liss_seg, color = 'red', label = 'seg')\n",
    "plt.legend(loc = 'best')\n",
    "plt.xlabel('Iterations')\n",
    "plt.ylabel('Accuracy')\n",
    "plt.title('Stochastic Exponentiated Gradient +/- vs. PSGD');"
   ]
  },
  {
   "cell_type": "markdown",
   "metadata": {
    "id": "CFg86TUtdgld"
   },
   "source": [
    "SEG +/- performs as well as PSGD. However, it has an exploratory phase, at around 100 iterations. This algorithm is not noisy and achieves very high accuracy, in few iterations and thus very low computational time, which is, once again, the biggest advantage of stochastic algorithms.\n",
    "\n",
    "In next section, we introduce an accelerated OCO algorithm, using momentum.  "
   ]
  },
  {
   "cell_type": "markdown",
   "metadata": {
    "id": "XCYgQUvSZv2V"
   },
   "source": [
    "### 4.3 Stochastic Adagrad"
   ]
  },
  {
   "cell_type": "markdown",
   "metadata": {
    "id": "S4uZxWh9fGuF"
   },
   "source": [
    "Stochastic Adagrad contains a projection step, which uses a weighted norm instead of the the $l^1$ norm. In order to implement the algorithm, this projection has to be implemented. "
   ]
  },
  {
   "cell_type": "markdown",
   "metadata": {
    "id": "bW8VFgQHrMh5"
   },
   "source": [
    "#### Projection on the Simplex with Weighted norm $D$"
   ]
  },
  {
   "cell_type": "code",
   "execution_count": 48,
   "metadata": {
    "id": "kA2egwrQ87I8"
   },
   "outputs": [],
   "source": [
    "def projection_simplex_weighted(x, w, z):\n",
    "    if np.sum(np.abs(x)) > z:\n",
    "        v = np.abs(x * w)\n",
    "        u = np.argsort(-v)\n",
    "        sx = np.cumsum(np.abs(x)[u])\n",
    "        sw = np.cumsum(1/w[u])\n",
    "        cond = v[u] > (sx-z) / sw\n",
    "        rho = cond[cond == True].shape[0] - 1\n",
    "        theta = (sx[rho] - z) / sw[rho]\n",
    "        x = np.sign(x) * np.maximum(abs(x) - theta/w, 0)\n",
    "    return x"
   ]
  },
  {
   "cell_type": "markdown",
   "metadata": {
    "id": "nKtTLMtIrcKf"
   },
   "source": [
    "#### Stochastic Adagrad Algorithm"
   ]
  },
  {
   "cell_type": "markdown",
   "metadata": {
    "id": "6OynNh0cfawp"
   },
   "source": [
    "Stochastic Adagrad restricts the $R$ to weighted quadratic regularization functions $R \\in \\mathcal{H}$ satisfying:\n",
    "\\begin{equation*}\n",
    "\\forall x \\in \\mathcal{K} : \\nabla^2R(x)  = D = Diag(s)\n",
    "\\end{equation*}\n",
    "where $s \\in \\mathbf{R}_{+}^d, \\| s\\| \\leq 1$.\n",
    "\n",
    "Adagrad is an agile OMD with multiple adaptive learning rates. The algorithm is implemented below, in its stochastic version:"
   ]
  },
  {
   "cell_type": "code",
   "execution_count": 49,
   "metadata": {
    "id": "7uqGCbq1Ze71"
   },
   "outputs": [],
   "source": [
    "def stoch_Adagrad(a, b, cost, grad, epoch, lamda, z):\n",
    "    'The step s is adaptive and learned wrt the'\n",
    "    'gradient value'\n",
    "\n",
    "    # Initializations\n",
    "    d = a.shape[1]\n",
    "    x, y, s = np.zeros(d), np.zeros(d), 1e-3 * np.ones(d)\n",
    "    x_iter = np.zeros((d, epoch))\n",
    "\n",
    "    # Random sampling\n",
    "    idx = np.random.randint(0, a.shape[0], epoch)\n",
    "    a = a[idx,:]\n",
    "    b = b[idx]\n",
    "\n",
    "    # Recursion\n",
    "    for t in range(1, epoch):\n",
    "        s = s + inst_gradient(x, a[t,:], b[t], lamda)**2\n",
    "        D = np.sqrt(s)\n",
    "        y = x - 1/D * inst_gradient(x, a[t,:], b[t], lamda)\n",
    "        x = projection_simplex_weighted(y, D, z)\n",
    "        x_iter[:,t] = x\n",
    "  \n",
    "    # Return\n",
    "    x_f = x_iter.mean(axis = 1)\n",
    "    return x_iter, x_f, D"
   ]
  },
  {
   "cell_type": "code",
   "execution_count": 50,
   "metadata": {
    "id": "W1GCwXE5AkMp"
   },
   "outputs": [],
   "source": [
    "x_iter_ada, x_ada, D = stoch_Adagrad(X_train, y_train, \n",
    "                                     hinge_loss, inst_gradient, \n",
    "                                     10000, 0.001, 1e7)"
   ]
  },
  {
   "cell_type": "code",
   "execution_count": 51,
   "metadata": {
    "id": "VhVw3UdVBX1g"
   },
   "outputs": [],
   "source": [
    "liss_ada = []\n",
    "iterations_ada = np.arange(0, 500,10)\n",
    "for i in iterations_ada:\n",
    "    tstt_ada = y_test * X_test.dot(x_iter_ada[:,i])\n",
    "    liss_ada.append(tstt_ada[tstt_ada>0].shape[0]/y_test.shape[0])"
   ]
  },
  {
   "cell_type": "code",
   "execution_count": 52,
   "metadata": {
    "id": "8XiBW9dZhYC5"
   },
   "outputs": [],
   "source": [
    "liss_psgd = []\n",
    "iterations_psgd = np.arange(0,500, 10)\n",
    "for i in iterations_psgd:\n",
    "    tstt_psgd = y_test * (X_test.dot(x_iter_psgd[:,i]))\n",
    "    liss_psgd.append(tstt_psgd[tstt_psgd>0].shape[0]/y_test.shape[0])"
   ]
  },
  {
   "cell_type": "code",
   "execution_count": 53,
   "metadata": {
    "colab": {
     "base_uri": "https://localhost:8080/",
     "height": 295
    },
    "id": "OAUxT7YfB8Mz",
    "outputId": "c76f1d4d-7d09-4077-caa5-48cb6871fb2d"
   },
   "outputs": [
    {
     "data": {
      "image/png": "[encoded data removed]",
      "text/plain": [
       "<Figure size 432x288 with 1 Axes>"
      ]
     },
     "metadata": {
      "needs_background": "light",
      "tags": []
     },
     "output_type": "display_data"
    }
   ],
   "source": [
    "plt.plot(iterations_psgd[:1500], liss_psgd[:1500], color = 'black', label = 'psgd')\n",
    "plt.plot(iterations_ada, liss_ada, color = 'red', label = 'Adagrad')\n",
    "plt.legend(loc = 'best')\n",
    "plt.xlabel('Iterations')\n",
    "plt.ylabel('Accuracy')\n",
    "plt.title('Stochastic AdaGrad vs. PSGD');"
   ]
  },
  {
   "cell_type": "markdown",
   "metadata": {
    "id": "YjikIHkyiCLm"
   },
   "source": [
    "The above figure suggests that AdaGrad achieves very quickly $95\\%$ accuracy. This is due to the adaptive character that allows further steps in the 'right' directions. This algorithm can be accelerated by the use of momentum, to obtain the famous Adam algorithm (see section 8). Another acceleration method, using second oreder moments will is presented in next section. "
   ]
  },
  {
   "cell_type": "markdown",
   "metadata": {
    "id": "GeLFegtyjW7G"
   },
   "source": [
    "# 5. Stochastic Online Newton Step "
   ]
  },
  {
   "cell_type": "code",
   "execution_count": 54,
   "metadata": {
    "id": "yuDsMWzjLu82"
   },
   "outputs": [],
   "source": [
    "def Online_Newton_Step(a, b, cost, grad, epoch, gamma, lamda, z):\n",
    "    # Initializations\n",
    "    d = a.shape[1]\n",
    "    gamma = 1\n",
    "    x, y = np.zeros(d), np.zeros(d), \n",
    "    A, invA = 1/gamma**2 * np.eye(d), gamma**2 * np.eye(d)\n",
    "    x_iter = np.zeros((d, epoch))\n",
    "    \n",
    "    # Random sampling\n",
    "    idx = np.random.randint(0, a.shape[0], epoch)\n",
    "    a = a[idx,:]\n",
    "    b = b[idx]\n",
    "    \n",
    "    # Recursion\n",
    "    for t in range(1, epoch):\n",
    "        gradi = grad(x, a[t,:], b[t], lamda)\n",
    "        A += gradi.dot(gradi.T)\n",
    "        invA = invA - 1/(1 + gradi.T.dot(invA).dot(gradi))\n",
    "        y = x - 1/gamma * invA.dot(gradi)\n",
    "        x = projection_simplex_weighted(y, np.diag(A), z)\n",
    "        x_iter[:,t] = x\n",
    "        \n",
    "    # Return\n",
    "    x_f = x_iter.mean(axis = 1)\n",
    "    return x_iter, x_f"
   ]
  },
  {
   "cell_type": "code",
   "execution_count": 118,
   "metadata": {
    "id": "eHvxbCZ4L7ao"
   },
   "outputs": [],
   "source": [
    "x_iter_ons, x_ons = Online_Newton_Step(X_train, y_train, \n",
    "                                       hinge_loss, inst_gradient,\n",
    "                                       1000, 0.6, \n",
    "                                       0.33, 1)"
   ]
  },
  {
   "cell_type": "code",
   "execution_count": 119,
   "metadata": {
    "id": "3kWj5yhxLww4"
   },
   "outputs": [],
   "source": [
    "liss_ons = []\n",
    "iterations_ons = np.arange(0, 500,10)\n",
    "for i in iterations_ons:\n",
    "    tstt_ons = y_test * X_test.dot(x_iter_ons[:,i])\n",
    "    liss_ons.append(tstt_ons[tstt_ons>0].shape[0]/y_test.shape[0])"
   ]
  },
  {
   "cell_type": "code",
   "execution_count": 120,
   "metadata": {
    "colab": {
     "base_uri": "https://localhost:8080/",
     "height": 295
    },
    "id": "JOgfw9eyNTQm",
    "outputId": "47cfa9f2-562a-4b60-a802-483cf0872c55"
   },
   "outputs": [
    {
     "data": {
      "image/png": "[encoded data removed]",
      "text/plain": [
       "<Figure size 432x288 with 1 Axes>"
      ]
     },
     "metadata": {
      "needs_background": "light",
      "tags": []
     },
     "output_type": "display_data"
    }
   ],
   "source": [
    "plt.plot(iterations_psgd, liss_psgd, color = 'black', label = 'psgd')\n",
    "plt.plot(iterations_ons, liss_ons, color = 'red', label = 'ONS')\n",
    "plt.legend(loc = 'best')\n",
    "plt.xlabel('Iterations')\n",
    "plt.ylabel('Accuracy')\n",
    "plt.title('Stochastic ONS vs. PSGD');"
   ]
  },
  {
   "cell_type": "markdown",
   "metadata": {
    "id": "vF-2-PUzP3Rz"
   },
   "source": [
    "Stochastic ONS is a hard to set algorithm, the choice of the parameter $\\gamma$ and of the regularization $\\lambda$ is very delicate. What is represented in the figure is the best performance we could get after trying different combinations between parameters.\n",
    "\n",
    "In addition, running time is greater for this algorithm compared to first order methods, which makes us more in favour of using gradient-based methods instead of ONS."
   ]
  },
  {
   "cell_type": "markdown",
   "metadata": {
    "id": "IuDGI62cjrar"
   },
   "source": [
    "# 6. Incomplete Information Methods\n",
    "These methods fall into the exploration category, very useful in extremely high dimensions.\n",
    "\n",
    "### 6.1 Stochastic Randomized Exponentiated Gradient +/- Algorithm"
   ]
  },
  {
   "cell_type": "code",
   "execution_count": 58,
   "metadata": {
    "id": "wF3JVpg5SvhB"
   },
   "outputs": [],
   "source": [
    "def stoch_random_exp_grad(a, b, cost, grad, epoch, lamda, eta, z):\n",
    "    # Initializations\n",
    "    d = a.shape[1]\n",
    "    x, w = np.zeros(d), 1/(2*d)*np.ones(2*d)\n",
    "    x_iter = np.zeros((d, epoch))\n",
    "  \n",
    "   # Random sampling\n",
    "    idx = np.random.randint(0, a.shape[0], epoch)\n",
    "    a = a[idx,:]\n",
    "    b = b[idx]\n",
    "    \n",
    "    # Recursion\n",
    "    for t in range(1, epoch):\n",
    "        it = np.random.randint(1,d,(w[:d]+w[d:])/2.)\n",
    "        eta = np.sqrt(np.log(2*d)/(2*d*t))\n",
    "        if grad(x, a[t,:], b[t], lamda)[it]>0:\n",
    "            w[it] = np.exp(-eta*grad(x, a[t,:], b[t], lamda)[it]/w[it])\n",
    "        else:\n",
    "            w[it+d] = np.exp(eta*grad(x, a[t,:], b[t], lamda)[it]/w[it])\n",
    "        w = w / np.sum(w)\n",
    "        x = z*(w[:d]-w[d:])\n",
    "        x_iter[:,t] = x\n",
    "  \n",
    "    # Return\n",
    "    x_f = x_iter.mean(axis = 1)\n",
    "    return x_iter, x_f"
   ]
  },
  {
   "cell_type": "markdown",
   "metadata": {
    "id": "3TgJJLjRJTKU"
   },
   "source": [
    "# 7. Efficient Mini-batch Training for Stochastic Optimization *(Li and al., 2014)* \n",
    "\n",
    "This algorithm originated from the work of (Li and al., 2014). It falls into the category of Stochastic Gradient Descent and uses mini-batch to update the gradient at each step. \n",
    "\n",
    "The main motivation arises from the necessity of using mini-batch in large-scale optimization such as in Deep Learning, Natural Language Processing or Image Classification. Increasing the mini-batch size results in a decrease in in the convergence rate, which is limiting since larger mini-batches are more compatible with parallelization. \n",
    "\n",
    "The article suggests a method that enables the use of a larger mini-batch without affecting the convergence rate. \n",
    "\n",
    "The main theoretical result is the following: \n",
    "\n",
    "---\n",
    "**Theorem**\n",
    "\n",
    "*Consider the stochastic update rule suggested by (6) in the article. Assume that $\\phi_i$ is $\\lambda $-strongly convex for all $i$. Under Assumption 1 (cf. original article) and when choosing the update parameter $\\gamma_t = \\gamma + \\lambda (t−1)$, we have the following regret bound, for all $w^* \\in \\Omega$:*\n",
    "\\begin{equation}\n",
    "\\sum_{t=1}^T \\mathbf{E}[\\phi(w_t) - \\phi(w^*)] \\leq \\frac{\\gamma}{2} \\| w^* - w_0\\|_2^2 + \\frac{A^2}{b} \\sum_{t=1}^T \\frac{1}{\\gamma_t}\n",
    "\\end{equation}\n",
    "where $b$ is the mini-batch size and $A^2 = sup_{w \\in \\Omega} n^{-1} \\sum_{i=1}^n \\| \\nabla \\phi_i(w) - \\nabla \\phi(w) \\|_2^2$.\n",
    "\n",
    "---\n",
    "This yields to an aggregate regret bound of $1/\\sqrt{bT}$ in the case of convex loss function, which is the case of penalized linear SVM. For a detailed proof of the theorem, see (Li and al., 2014). Here, we are interested more in the computational aspect.\n",
    "\n",
    "The algorithm is implemented below, in our case, no parallelization has been performed, so high computational time was required to achieve convergence.\n",
    "\n",
    "The algorithm aggregates the parallel steps $x_t$ obtained by each 'machine'. the final update of a gradient step is the mean of the steps obtained by each machine. \n",
    "\n",
    "7.1 describes the update that is performed by each machine. This algorithm is then used to obtain the final update, given in 7.2. \n"
   ]
  },
  {
   "cell_type": "markdown",
   "metadata": {
    "id": "No22by_SJTKU"
   },
   "source": [
    "### 7.1. EMSO-GD Algorithm"
   ]
  },
  {
   "cell_type": "code",
   "execution_count": 59,
   "metadata": {
    "id": "sDRqJCbAJTKU"
   },
   "outputs": [],
   "source": [
    "def emso_gd(x, mini_a, mini_b, gamma, grad, eta, L, lamda):\n",
    "    x_t = x\n",
    "    for l in range(L):\n",
    "        x_t = x_t - eta * (grad(x, mini_a, mini_b, lamda) + gamma * (x_t - x))\n",
    "        x = x_t\n",
    "    return x_t"
   ]
  },
  {
   "cell_type": "markdown",
   "metadata": {
    "id": "MUVu-pK_JTKU"
   },
   "source": [
    "### 7.2. EMSO Algorithm"
   ]
  },
  {
   "cell_type": "code",
   "execution_count": 60,
   "metadata": {
    "id": "IWAydTUyGMX1"
   },
   "outputs": [],
   "source": [
    "def emso(x, a, b, gamma, m,d, T, grad, eta, L, lamda):\n",
    "    \n",
    "    Ia, Ib = np.split(a, m), np.split(b, m)  # Partition into m mini-batches\n",
    "    x_iter = np.zeros((a.shape[1], T))\n",
    "\n",
    "\n",
    "    for t in range(T):\n",
    "        idx = np.random.randint(0,m)\n",
    "        mini_a, mini_b = Ia[idx], Ib[idx]     # Randomly choose mini-batch I_t\n",
    "        mini_a_i, mini_b_i = np.split(mini_a, d), np.split(mini_b, d)     # Partition I_t into I_t1,...,I_td\n",
    "        \n",
    "        store_xti = np.zeros((a.shape[1], d))\n",
    "        for i in range(d):\n",
    "            x_ti = emso_gd(x, mini_a_i[i], mini_b_i[i], gamma+t-1 , gradient, eta, L, lamda)\n",
    "            store_xti[:,i] = x_ti\n",
    "        x = store_xti.mean(axis = 1)\n",
    "        x_iter[:,t] = x\n",
    "    return x, x_iter"
   ]
  },
  {
   "cell_type": "code",
   "execution_count": 61,
   "metadata": {
    "id": "GHPj8ICkJTKU"
   },
   "outputs": [],
   "source": [
    "x_emso, x_iter_emso = emso(np.ones(X_train.shape[1]), X_train, y_train, \n",
    "                           0.1, 200, \n",
    "                           10, 2000, \n",
    "                           gradient, \n",
    "                           0.02, 10, 0.01)"
   ]
  },
  {
   "cell_type": "code",
   "execution_count": 62,
   "metadata": {
    "id": "8LonfJL4JTKV"
   },
   "outputs": [],
   "source": [
    "liss_emso = []\n",
    "iterations_emso = np.arange(0, 1000, 1)\n",
    "for i in iterations_emso:\n",
    "    tstt_emso = y_test * X_test.dot(x_iter_emso[:,i])\n",
    "    liss_emso.append(tstt_emso[tstt_emso>0].shape[0]/y_test.shape[0])"
   ]
  },
  {
   "cell_type": "code",
   "execution_count": 63,
   "metadata": {
    "colab": {
     "base_uri": "https://localhost:8080/",
     "height": 295
    },
    "id": "pKZ_J6AMJTKV",
    "outputId": "a33fbdc3-fea9-43f4-f4c3-3836b0f11b81"
   },
   "outputs": [
    {
     "data": {
      "image/png": "[encoded data removed]",
      "text/plain": [
       "<Figure size 432x288 with 1 Axes>"
      ]
     },
     "metadata": {
      "needs_background": "light",
      "tags": []
     },
     "output_type": "display_data"
    }
   ],
   "source": [
    "plt.plot(iterations_emso, liss_emso, color = 'red')\n",
    "plt.xlabel('Iterations')\n",
    "plt.ylabel('Accuracy')\n",
    "plt.title('Efficient Mini-Batch for Stochastic Optimization');"
   ]
  },
  {
   "cell_type": "markdown",
   "metadata": {
    "id": "J90hmY470U_Q"
   },
   "source": [
    "One should notice that the first iterations do not bring significant update. Then, at around 50 iterations, the algorithm achieves $90\\%$ accuracy but remains at this point and does not improve more. Compared with the above seen algorithms, we obtain the following figure: "
   ]
  },
  {
   "cell_type": "code",
   "execution_count": 64,
   "metadata": {
    "id": "91zsDx912HMW"
   },
   "outputs": [],
   "source": [
    "# EMSO\n",
    "liss_emso = []\n",
    "iterations_emso = np.arange(0, 500, 10)\n",
    "for i in iterations_emso:\n",
    "    tstt_emso = y_test * X_test.dot(x_iter_emso[:,i])\n",
    "    liss_emso.append(tstt_emso[tstt_emso>0].shape[0]/y_test.shape[0])\n",
    "\n",
    "#AdaGrad\n",
    "liss_ada = []\n",
    "iterations_ada = np.arange(0, 500,10)\n",
    "for i in iterations_ada:\n",
    "    tstt_ada = y_test * X_test.dot(x_iter_ada[:,i])\n",
    "    liss_ada.append(tstt_ada[tstt_ada>0].shape[0]/y_test.shape[0])\n",
    "\n",
    "#PSGD\n",
    "liss_psgd = []\n",
    "iterations_psgd = np.arange(0,500, 10)\n",
    "for i in iterations_psgd:\n",
    "    tstt_psgd = y_test * (X_test.dot(x_iter_psgd[:,i]))\n",
    "    liss_psgd.append(tstt_psgd[tstt_psgd>0].shape[0]/y_test.shape[0])\n",
    "\n",
    "# SEG\n",
    "liss_seg = []\n",
    "iterations_seg = np.arange(0, 500, 10)\n",
    "for i in iterations_seg:\n",
    "    tstt_seg = y_test * X_test.dot(x_iter_seg[:,i])\n",
    "    liss_seg.append(tstt_seg[tstt_seg>0].shape[0]/y_test.shape[0])\n",
    "\n",
    "# SMD\n",
    "liss_smd = []\n",
    "iterations_smd = np.arange(0, 500, 10)\n",
    "for i in iterations_smd:\n",
    "    tstt_smd = y_test * (X_test.dot(x_iter_smd[:,i]))\n",
    "    liss_smd.append(tstt_smd[tstt_smd>0].shape[0]/y_test.shape[0])"
   ]
  },
  {
   "cell_type": "code",
   "execution_count": 65,
   "metadata": {
    "colab": {
     "base_uri": "https://localhost:8080/",
     "height": 404
    },
    "id": "3lIYkWCOJTKV",
    "outputId": "0312e4c8-1cb0-40a1-9bd5-d276a5e6ef7d"
   },
   "outputs": [
    {
     "data": {
      "image/png": "[encoded data removed]",
      "text/plain": [
       "<Figure size 720x432 with 1 Axes>"
      ]
     },
     "metadata": {
      "needs_background": "light",
      "tags": []
     },
     "output_type": "display_data"
    }
   ],
   "source": [
    "plt.figure(figsize = (10,6))\n",
    "\n",
    "plt.plot(iterations_emso, liss_emso, color = 'red', label = 'EMSO')\n",
    "plt.plot(iterations_ada, liss_ada, color = 'black', label = 'Adagrad')\n",
    "plt.plot(iterations_psgd, liss_psgd, color = 'green', label = 'PSGD')\n",
    "plt.plot(iterations_smd, liss_smd, color = 'darkgrey', label = 'SMD')\n",
    "plt.plot(iterations_seg, liss_seg, color = 'blue', label = 'SEG +/-')\n",
    "\n",
    "plt.legend(loc = 'best')\n",
    "plt.xlabel('Iterations')\n",
    "plt.ylabel('Accuracy')\n",
    "plt.title('EMSO vs. OCO algorithms');"
   ]
  },
  {
   "cell_type": "markdown",
   "metadata": {
    "id": "fXm-Cn943KLs"
   },
   "source": [
    "The performance achieved bye EMSO is lower than the ones obtained by the preceding OCO algorithms, since it remains 'locked' in a $90\\%$ accuracy.\n",
    "\n",
    "# 8. Bonus: Adam algorithm"
   ]
  },
  {
   "cell_type": "code",
   "execution_count": 17,
   "metadata": {
    "id": "AViWSi7v3CB_"
   },
   "outputs": [],
   "source": [
    "def adam(a, b, cost, grad, lamda, epoch, z, beta1 = 0.9, beta2 = 0.999):\n",
    "    # Initializations\n",
    "    d = a.shape[1]\n",
    "    eta = 1\n",
    "    x, y, s, m = np.zeros(d), np.zeros(d), 1e-4 * np.ones(d), 5\n",
    "    x_iter = np.zeros((d, epoch))\n",
    "\n",
    "    # Random sampling\n",
    "    idx = np.random.randint(0, a.shape[0], epoch)\n",
    "    a = a[idx,:]\n",
    "    b = b[idx]\n",
    "\n",
    "    # Recursion\n",
    "    for t in range(1, epoch):\n",
    "        eta /= np.sqrt(t)\n",
    "        m = beta1*m + (1-beta1)*inst_gradient(x, a[t,:], b[t], lamda)\n",
    "        s = beta2*s + (1-beta2)*inst_gradient(x, a[t,:], b[t], lamda)**2\n",
    "        D = np.sqrt(s)\n",
    "        y = x - eta/D * m\n",
    "        x = projection_simplex_weighted(y, D, z)\n",
    "        x_iter[:,t] = x\n",
    "\n",
    "    # Return\n",
    "    x_f = x_iter.mean(axis = 1)\n",
    "    return x_iter, x_f"
   ]
  },
  {
   "cell_type": "code",
   "execution_count": 67,
   "metadata": {
    "id": "3lCkzy6s54a8"
   },
   "outputs": [],
   "source": [
    "x_iter_adam, x_adam = adam(X_train, y_train, \n",
    "                              hinge_loss, inst_gradient, \n",
    "                              0.001, 10000, 1e3)"
   ]
  },
  {
   "cell_type": "code",
   "execution_count": 282,
   "metadata": {},
   "outputs": [],
   "source": [
    "def Adam(X, y, loss, grad, lamda, epoch, lr = .001, beta1 = .9, beta2 = .9999, eps = 1e-8):\n",
    "    d = X.shape[1]\n",
    "\n",
    "    # Initializations\n",
    "    theta_iter = np.zeros((d,epoch))\n",
    "    theta, cost = np.random.randn(d), np.zeros(epoch)\n",
    "    init  = theta\n",
    "    cost[0] = hinge_loss(init, X_train, y_train, lamda)\n",
    "    m, v = np.zeros(d), np.zeros(d)\n",
    "    \n",
    "    # Random sampling\n",
    "    idx = np.random.randint(0, X.shape[0], epoch)\n",
    "    X = X[idx,:]\n",
    "    y = y[idx]\n",
    "    \n",
    "    # Recursion\n",
    "    for t in range(1, epoch):\n",
    "        #lr /= np.sqrt(t)\n",
    "        \n",
    "        # Update biased moments\n",
    "        m = beta1*m + (1-beta1)*inst_gradient(theta, X[t,:], y[t], lamda)\n",
    "        v = beta2*v + (1-beta2)*inst_gradient(theta, X[t,:], y[t], lamda)**2\n",
    "        \n",
    "        # Compute unbiased moments \n",
    "        hat_m = m / (1 - beta1**t)\n",
    "        hat_v = v / (1 - beta2**t)\n",
    "    \n",
    "        # Update parameters\n",
    "        theta = theta - lr*hat_m / (np.sqrt(hat_v) + eps)\n",
    "        theta_iter[:,t] = theta\n",
    "        \n",
    "        # Compute cost function\n",
    "        cost[t] = hinge_loss(theta, X, y, lamda)\n",
    "\n",
    "    return theta_iter, theta, cost, init, X, y"
   ]
  },
  {
   "cell_type": "code",
   "execution_count": 283,
   "metadata": {},
   "outputs": [],
   "source": [
    "def stoch_gradient_descent(a, b , cost, grad, epoch, lamda, eta):\n",
    "    'epoch = T: number of iterations'\n",
    "    'eta = 1 / (lamda*t)'\n",
    "\n",
    "    x = init\n",
    "    cost = np.zeros(epoch)\n",
    "    cost[0] = hinge_loss(x, a, b, lamda)\n",
    "    a = X_sample\n",
    "    b = y_sample \n",
    "    x_iter = np.zeros((a.shape[1], epoch+1))\n",
    "    for t in range(1,epoch):\n",
    "        eta = 1 / (lamda * t)\n",
    "        x -= eta * grad(x, a[t,:], b[t], lamda)\n",
    "        x_iter[:,t] = x\n",
    "        \n",
    "        cost[t] = hinge_loss(x, a, b, lamda)\n",
    "    x_f = x_iter.mean(axis = 1)\n",
    "    return x_iter, x_f, cost"
   ]
  },
  {
   "cell_type": "code",
   "execution_count": 293,
   "metadata": {},
   "outputs": [],
   "source": [
    "%config InlineBackend.figure_format = 'retina'\n",
    "\n",
    "# Parameters\n",
    "epochs = 5000\n",
    "alpha = 0.01\n",
    "lamda = 0.001"
   ]
  },
  {
   "cell_type": "code",
   "execution_count": 294,
   "metadata": {},
   "outputs": [],
   "source": [
    "theta_iter, theta_f, cost_adam, init, X_sample, y_sample = Adam(X_train, y_train,\n",
    "                                                                hinge_loss, inst_gradient,\n",
    "                                                                lamda = lamda, epoch = epochs,\n",
    "                                                                lr = alpha)"
   ]
  },
  {
   "cell_type": "code",
   "execution_count": 295,
   "metadata": {},
   "outputs": [],
   "source": [
    "x_iter_sgd, x_sgd, cost_sgd = stoch_gradient_descent(X_train, y_train, \n",
    "                                                    hinge_loss, inst_gradient, \n",
    "                                                    epochs, lamda, alpha)"
   ]
  },
  {
   "cell_type": "code",
   "execution_count": 296,
   "metadata": {
    "id": "EGxfo5Z_602s"
   },
   "outputs": [],
   "source": [
    "liss_adam, liss_cost_adam = [], []\n",
    "iterations_adam = np.arange(0, epochs,20)\n",
    "for i in iterations_adam:\n",
    "    tstt_adam = y_test * X_test.dot(theta_iter[:,i])\n",
    "    liss_adam.append(tstt_adam[tstt_adam>0].shape[0]/y_test.shape[0])\n",
    "    liss_cost_adam.append(cost_adam[i])"
   ]
  },
  {
   "cell_type": "code",
   "execution_count": 297,
   "metadata": {},
   "outputs": [],
   "source": [
    "liss_sgd, liss_cost_sgd = [], []\n",
    "iterations_sgd = np.arange(0,epochs, 20)\n",
    "for i in iterations_sgd:\n",
    "    tstt_sgd = y_test * (X_test.dot(x_iter_sgd[:,i]))\n",
    "    liss_sgd.append(tstt_sgd[tstt_sgd>0].shape[0]/y_test.shape[0])\n",
    "    liss_cost_sgd.append(cost_sgd[i])"
   ]
  },
  {
   "cell_type": "code",
   "execution_count": 298,
   "metadata": {},
   "outputs": [
    {
     "data": {
      "image/png": "[encoded data removed]",
      "text/plain": [
       "<Figure size 1008x360 with 2 Axes>"
      ]
     },
     "metadata": {
      "image/png": {
       "height": 331,
       "width": 830
      }
     },
     "output_type": "display_data"
    }
   ],
   "source": [
    "fig = plt.figure(figsize = (14,5))\n",
    "\n",
    "# Accuracy\n",
    "plt.subplot(121)\n",
    "plt.plot(iterations_adam, liss_adam, color = 'red', label = 'Adam')\n",
    "plt.plot(iterations_sgd, liss_sgd, color = 'black', label = 'SGD')\n",
    "plt.legend()\n",
    "plt.xlabel('Iterations')\n",
    "plt.ylabel('Accuracy')\n",
    "plt.title('Training accuracy - Adam vs. SGD');\n",
    "\n",
    "\n",
    "# Cost function\n",
    "plt.subplot(122)\n",
    "plt.plot(iterations_adam, liss_cost_adam, color = 'red', label = 'Adam')\n",
    "plt.plot(iterations_sgd, liss_cost_sgd, color = 'black', label = 'SGD')\n",
    "#plt.xscale('log')\n",
    "plt.yscale('log')\n",
    "plt.legend()\n",
    "plt.xlabel('Iterations')\n",
    "plt.ylabel('Training loss')\n",
    "plt.title('Training loss - Adam vs. SGD');\n",
    "\n",
    "plt.savefig('fig.jpg')"
   ]
  },
  {
   "cell_type": "code",
   "execution_count": null,
   "metadata": {},
   "outputs": [],
   "source": []
  }
 ],
 "metadata": {
  "colab": {
   "collapsed_sections": [],
   "name": "Project_OCO.ipynb",
   "provenance": [],
   "toc_visible": true
  },
  "kernelspec": {
   "display_name": "Python 3",
   "language": "python",
   "name": "python3"
  },
  "language_info": {
   "codemirror_mode": {
    "name": "ipython",
    "version": 3
   },
   "file_extension": ".py",
   "mimetype": "text/x-python",
   "name": "python",
   "nbconvert_exporter": "python",
   "pygments_lexer": "ipython3",
   "version": "3.7.4"
  }
 },
 "nbformat": 4,
 "nbformat_minor": 1
}
